{
 "cells": [
  {
   "cell_type": "markdown",
   "metadata": {},
   "source": [
    "## CreditOne Modeling and Prediction "
   ]
  },
  {
   "cell_type": "markdown",
   "metadata": {},
   "source": [
    "### PROBLEM STATEMENT \n",
    "\n",
    "An increase in customer default rates is bad for Credit One since its business is approving customers for loans in the first place. This is likely to result in the loss of Credit One's business customers.\n",
    "\n",
    "### OBJECTIVE\n",
    "* To compute the predictive accuracy of probability of default for a Taiwanese credit card client.\n",
    "* Classify probability of default for next month 1: DEFAULT and 0: NON-DEFAULT\n"
   ]
  },
  {
   "cell_type": "code",
   "execution_count": 2,
   "metadata": {},
   "outputs": [],
   "source": [
    "#imports\n",
    "import pandas as pd\n",
    "import numpy as np\n",
    "import seaborn as sns\n",
    "import matplotlib.pyplot as plt\n",
    "import scipy\n",
    "from math import sqrt\n",
    "import pickle\n",
    "import warnings\n",
    "warnings.filterwarnings('ignore')"
   ]
  },
  {
   "cell_type": "code",
   "execution_count": 178,
   "metadata": {},
   "outputs": [],
   "source": [
    "#cross validation\n",
    "from sklearn.model_selection import train_test_split\n",
    "#Random Forest\n",
    "from sklearn.ensemble import RandomForestClassifier\n",
    "from sklearn.svm import SVC\n",
    "from sklearn.neighbors import KNeighborsClassifier\n",
    "from sklearn.svm import LinearSVC\n",
    "from sklearn.feature_selection import RFE\n",
    "from sklearn.tree import DecisionTreeClassifier\n",
    "#model metrics\n",
    "from sklearn.model_selection import cross_val_score\n",
    "from sklearn import metrics\n",
    "from sklearn.metrics import  accuracy_score, f1_score, precision_score, recall_score, roc_auc_score\n",
    "\n",
    "from sklearn.model_selection import GridSearchCV\n",
    "from sklearn.decomposition import PCA\n"
   ]
  },
  {
   "cell_type": "markdown",
   "metadata": {},
   "source": [
    "### Importing dataset"
   ]
  },
  {
   "cell_type": "code",
   "execution_count": 4,
   "metadata": {},
   "outputs": [],
   "source": [
    "CreditOneNew = pd.read_csv('CreditOne_New.csv', header = 1 )"
   ]
  },
  {
   "cell_type": "code",
   "execution_count": 5,
   "metadata": {},
   "outputs": [
    {
     "data": {
      "text/html": [
       "<div>\n",
       "<style scoped>\n",
       "    .dataframe tbody tr th:only-of-type {\n",
       "        vertical-align: middle;\n",
       "    }\n",
       "\n",
       "    .dataframe tbody tr th {\n",
       "        vertical-align: top;\n",
       "    }\n",
       "\n",
       "    .dataframe thead th {\n",
       "        text-align: right;\n",
       "    }\n",
       "</style>\n",
       "<table border=\"1\" class=\"dataframe\">\n",
       "  <thead>\n",
       "    <tr style=\"text-align: right;\">\n",
       "      <th></th>\n",
       "      <th>ID</th>\n",
       "      <th>LIMIT_BAL</th>\n",
       "      <th>SEX</th>\n",
       "      <th>EDUCATION</th>\n",
       "      <th>MARRIAGE</th>\n",
       "      <th>AGE</th>\n",
       "      <th>PAY_0</th>\n",
       "      <th>PAY_2</th>\n",
       "      <th>PAY_3</th>\n",
       "      <th>PAY_4</th>\n",
       "      <th>...</th>\n",
       "      <th>BILL_AMT6</th>\n",
       "      <th>PAY_AMT1</th>\n",
       "      <th>PAY_AMT2</th>\n",
       "      <th>PAY_AMT3</th>\n",
       "      <th>PAY_AMT4</th>\n",
       "      <th>PAY_AMT5</th>\n",
       "      <th>PAY_AMT6</th>\n",
       "      <th>default payment next month</th>\n",
       "      <th>Age</th>\n",
       "      <th>Limit_Bal</th>\n",
       "    </tr>\n",
       "  </thead>\n",
       "  <tbody>\n",
       "    <tr>\n",
       "      <td>0</td>\n",
       "      <td>0</td>\n",
       "      <td>20000</td>\n",
       "      <td>2</td>\n",
       "      <td>2</td>\n",
       "      <td>1</td>\n",
       "      <td>24</td>\n",
       "      <td>2</td>\n",
       "      <td>2</td>\n",
       "      <td>-1</td>\n",
       "      <td>-1</td>\n",
       "      <td>...</td>\n",
       "      <td>0</td>\n",
       "      <td>0</td>\n",
       "      <td>689</td>\n",
       "      <td>0</td>\n",
       "      <td>0</td>\n",
       "      <td>0</td>\n",
       "      <td>0</td>\n",
       "      <td>1</td>\n",
       "      <td>20</td>\n",
       "      <td>100000</td>\n",
       "    </tr>\n",
       "    <tr>\n",
       "      <td>1</td>\n",
       "      <td>1</td>\n",
       "      <td>120000</td>\n",
       "      <td>2</td>\n",
       "      <td>2</td>\n",
       "      <td>2</td>\n",
       "      <td>26</td>\n",
       "      <td>-1</td>\n",
       "      <td>2</td>\n",
       "      <td>0</td>\n",
       "      <td>0</td>\n",
       "      <td>...</td>\n",
       "      <td>3261</td>\n",
       "      <td>0</td>\n",
       "      <td>1000</td>\n",
       "      <td>1000</td>\n",
       "      <td>1000</td>\n",
       "      <td>0</td>\n",
       "      <td>2000</td>\n",
       "      <td>1</td>\n",
       "      <td>20</td>\n",
       "      <td>200000</td>\n",
       "    </tr>\n",
       "    <tr>\n",
       "      <td>2</td>\n",
       "      <td>2</td>\n",
       "      <td>90000</td>\n",
       "      <td>2</td>\n",
       "      <td>2</td>\n",
       "      <td>2</td>\n",
       "      <td>34</td>\n",
       "      <td>0</td>\n",
       "      <td>0</td>\n",
       "      <td>0</td>\n",
       "      <td>0</td>\n",
       "      <td>...</td>\n",
       "      <td>15549</td>\n",
       "      <td>1518</td>\n",
       "      <td>1500</td>\n",
       "      <td>1000</td>\n",
       "      <td>1000</td>\n",
       "      <td>1000</td>\n",
       "      <td>5000</td>\n",
       "      <td>0</td>\n",
       "      <td>30</td>\n",
       "      <td>100000</td>\n",
       "    </tr>\n",
       "    <tr>\n",
       "      <td>3</td>\n",
       "      <td>3</td>\n",
       "      <td>50000</td>\n",
       "      <td>2</td>\n",
       "      <td>2</td>\n",
       "      <td>1</td>\n",
       "      <td>37</td>\n",
       "      <td>0</td>\n",
       "      <td>0</td>\n",
       "      <td>0</td>\n",
       "      <td>0</td>\n",
       "      <td>...</td>\n",
       "      <td>29547</td>\n",
       "      <td>2000</td>\n",
       "      <td>2019</td>\n",
       "      <td>1200</td>\n",
       "      <td>1100</td>\n",
       "      <td>1069</td>\n",
       "      <td>1000</td>\n",
       "      <td>0</td>\n",
       "      <td>30</td>\n",
       "      <td>100000</td>\n",
       "    </tr>\n",
       "    <tr>\n",
       "      <td>4</td>\n",
       "      <td>4</td>\n",
       "      <td>50000</td>\n",
       "      <td>1</td>\n",
       "      <td>2</td>\n",
       "      <td>1</td>\n",
       "      <td>57</td>\n",
       "      <td>-1</td>\n",
       "      <td>0</td>\n",
       "      <td>-1</td>\n",
       "      <td>0</td>\n",
       "      <td>...</td>\n",
       "      <td>19131</td>\n",
       "      <td>2000</td>\n",
       "      <td>36681</td>\n",
       "      <td>10000</td>\n",
       "      <td>9000</td>\n",
       "      <td>689</td>\n",
       "      <td>679</td>\n",
       "      <td>0</td>\n",
       "      <td>50</td>\n",
       "      <td>100000</td>\n",
       "    </tr>\n",
       "    <tr>\n",
       "      <td>...</td>\n",
       "      <td>...</td>\n",
       "      <td>...</td>\n",
       "      <td>...</td>\n",
       "      <td>...</td>\n",
       "      <td>...</td>\n",
       "      <td>...</td>\n",
       "      <td>...</td>\n",
       "      <td>...</td>\n",
       "      <td>...</td>\n",
       "      <td>...</td>\n",
       "      <td>...</td>\n",
       "      <td>...</td>\n",
       "      <td>...</td>\n",
       "      <td>...</td>\n",
       "      <td>...</td>\n",
       "      <td>...</td>\n",
       "      <td>...</td>\n",
       "      <td>...</td>\n",
       "      <td>...</td>\n",
       "      <td>...</td>\n",
       "      <td>...</td>\n",
       "    </tr>\n",
       "    <tr>\n",
       "      <td>29995</td>\n",
       "      <td>29995</td>\n",
       "      <td>220000</td>\n",
       "      <td>1</td>\n",
       "      <td>3</td>\n",
       "      <td>1</td>\n",
       "      <td>39</td>\n",
       "      <td>0</td>\n",
       "      <td>0</td>\n",
       "      <td>0</td>\n",
       "      <td>0</td>\n",
       "      <td>...</td>\n",
       "      <td>15980</td>\n",
       "      <td>8500</td>\n",
       "      <td>20000</td>\n",
       "      <td>5003</td>\n",
       "      <td>3047</td>\n",
       "      <td>5000</td>\n",
       "      <td>1000</td>\n",
       "      <td>0</td>\n",
       "      <td>30</td>\n",
       "      <td>300000</td>\n",
       "    </tr>\n",
       "    <tr>\n",
       "      <td>29996</td>\n",
       "      <td>29996</td>\n",
       "      <td>150000</td>\n",
       "      <td>1</td>\n",
       "      <td>3</td>\n",
       "      <td>2</td>\n",
       "      <td>43</td>\n",
       "      <td>-1</td>\n",
       "      <td>-1</td>\n",
       "      <td>-1</td>\n",
       "      <td>-1</td>\n",
       "      <td>...</td>\n",
       "      <td>0</td>\n",
       "      <td>1837</td>\n",
       "      <td>3526</td>\n",
       "      <td>8998</td>\n",
       "      <td>129</td>\n",
       "      <td>0</td>\n",
       "      <td>0</td>\n",
       "      <td>0</td>\n",
       "      <td>40</td>\n",
       "      <td>200000</td>\n",
       "    </tr>\n",
       "    <tr>\n",
       "      <td>29997</td>\n",
       "      <td>29997</td>\n",
       "      <td>30000</td>\n",
       "      <td>1</td>\n",
       "      <td>2</td>\n",
       "      <td>2</td>\n",
       "      <td>37</td>\n",
       "      <td>4</td>\n",
       "      <td>3</td>\n",
       "      <td>2</td>\n",
       "      <td>-1</td>\n",
       "      <td>...</td>\n",
       "      <td>19357</td>\n",
       "      <td>0</td>\n",
       "      <td>0</td>\n",
       "      <td>22000</td>\n",
       "      <td>4200</td>\n",
       "      <td>2000</td>\n",
       "      <td>3100</td>\n",
       "      <td>1</td>\n",
       "      <td>30</td>\n",
       "      <td>100000</td>\n",
       "    </tr>\n",
       "    <tr>\n",
       "      <td>29998</td>\n",
       "      <td>29998</td>\n",
       "      <td>80000</td>\n",
       "      <td>1</td>\n",
       "      <td>3</td>\n",
       "      <td>1</td>\n",
       "      <td>41</td>\n",
       "      <td>1</td>\n",
       "      <td>-1</td>\n",
       "      <td>0</td>\n",
       "      <td>0</td>\n",
       "      <td>...</td>\n",
       "      <td>48944</td>\n",
       "      <td>85900</td>\n",
       "      <td>3409</td>\n",
       "      <td>1178</td>\n",
       "      <td>1926</td>\n",
       "      <td>52964</td>\n",
       "      <td>1804</td>\n",
       "      <td>1</td>\n",
       "      <td>40</td>\n",
       "      <td>100000</td>\n",
       "    </tr>\n",
       "    <tr>\n",
       "      <td>29999</td>\n",
       "      <td>29999</td>\n",
       "      <td>50000</td>\n",
       "      <td>1</td>\n",
       "      <td>2</td>\n",
       "      <td>1</td>\n",
       "      <td>46</td>\n",
       "      <td>0</td>\n",
       "      <td>0</td>\n",
       "      <td>0</td>\n",
       "      <td>0</td>\n",
       "      <td>...</td>\n",
       "      <td>15313</td>\n",
       "      <td>2078</td>\n",
       "      <td>1800</td>\n",
       "      <td>1430</td>\n",
       "      <td>1000</td>\n",
       "      <td>1000</td>\n",
       "      <td>1000</td>\n",
       "      <td>1</td>\n",
       "      <td>40</td>\n",
       "      <td>100000</td>\n",
       "    </tr>\n",
       "  </tbody>\n",
       "</table>\n",
       "<p>30000 rows × 27 columns</p>\n",
       "</div>"
      ],
      "text/plain": [
       "          ID  LIMIT_BAL  SEX  EDUCATION  MARRIAGE  AGE  PAY_0  PAY_2  PAY_3  \\\n",
       "0          0      20000    2          2         1   24      2      2     -1   \n",
       "1          1     120000    2          2         2   26     -1      2      0   \n",
       "2          2      90000    2          2         2   34      0      0      0   \n",
       "3          3      50000    2          2         1   37      0      0      0   \n",
       "4          4      50000    1          2         1   57     -1      0     -1   \n",
       "...      ...        ...  ...        ...       ...  ...    ...    ...    ...   \n",
       "29995  29995     220000    1          3         1   39      0      0      0   \n",
       "29996  29996     150000    1          3         2   43     -1     -1     -1   \n",
       "29997  29997      30000    1          2         2   37      4      3      2   \n",
       "29998  29998      80000    1          3         1   41      1     -1      0   \n",
       "29999  29999      50000    1          2         1   46      0      0      0   \n",
       "\n",
       "       PAY_4  ...  BILL_AMT6  PAY_AMT1  PAY_AMT2  PAY_AMT3  PAY_AMT4  \\\n",
       "0         -1  ...          0         0       689         0         0   \n",
       "1          0  ...       3261         0      1000      1000      1000   \n",
       "2          0  ...      15549      1518      1500      1000      1000   \n",
       "3          0  ...      29547      2000      2019      1200      1100   \n",
       "4          0  ...      19131      2000     36681     10000      9000   \n",
       "...      ...  ...        ...       ...       ...       ...       ...   \n",
       "29995      0  ...      15980      8500     20000      5003      3047   \n",
       "29996     -1  ...          0      1837      3526      8998       129   \n",
       "29997     -1  ...      19357         0         0     22000      4200   \n",
       "29998      0  ...      48944     85900      3409      1178      1926   \n",
       "29999      0  ...      15313      2078      1800      1430      1000   \n",
       "\n",
       "       PAY_AMT5  PAY_AMT6  default payment next month  Age  Limit_Bal  \n",
       "0             0         0                           1   20     100000  \n",
       "1             0      2000                           1   20     200000  \n",
       "2          1000      5000                           0   30     100000  \n",
       "3          1069      1000                           0   30     100000  \n",
       "4           689       679                           0   50     100000  \n",
       "...         ...       ...                         ...  ...        ...  \n",
       "29995      5000      1000                           0   30     300000  \n",
       "29996         0         0                           0   40     200000  \n",
       "29997      2000      3100                           1   30     100000  \n",
       "29998     52964      1804                           1   40     100000  \n",
       "29999      1000      1000                           1   40     100000  \n",
       "\n",
       "[30000 rows x 27 columns]"
      ]
     },
     "execution_count": 5,
     "metadata": {},
     "output_type": "execute_result"
    }
   ],
   "source": [
    "CreditOneNew"
   ]
  },
  {
   "cell_type": "markdown",
   "metadata": {},
   "source": [
    "### Data Pre-Processing "
   ]
  },
  {
   "cell_type": "code",
   "execution_count": 6,
   "metadata": {},
   "outputs": [],
   "source": [
    "CreditOneNew.drop('ID', axis = 1, inplace =True) # drop column \"ID\"\n",
    "CreditOneNew.drop('AGE', axis = 1, inplace =True) # drop column \"original Age\"\n",
    "CreditOneNew.drop('LIMIT_BAL', axis = 1, inplace =True) # drop column \"original Limit Bal\""
   ]
  },
  {
   "cell_type": "code",
   "execution_count": 7,
   "metadata": {},
   "outputs": [],
   "source": [
    "CreditOneNew.rename(columns = {'default payment next month':'Default'}, inplace = True)"
   ]
  },
  {
   "cell_type": "code",
   "execution_count": 8,
   "metadata": {},
   "outputs": [
    {
     "name": "stdout",
     "output_type": "stream",
     "text": [
      "<class 'pandas.core.frame.DataFrame'>\n",
      "RangeIndex: 30000 entries, 0 to 29999\n",
      "Data columns (total 24 columns):\n",
      "SEX          30000 non-null int64\n",
      "EDUCATION    30000 non-null int64\n",
      "MARRIAGE     30000 non-null int64\n",
      "PAY_0        30000 non-null int64\n",
      "PAY_2        30000 non-null int64\n",
      "PAY_3        30000 non-null int64\n",
      "PAY_4        30000 non-null int64\n",
      "PAY_5        30000 non-null int64\n",
      "PAY_6        30000 non-null int64\n",
      "BILL_AMT1    30000 non-null int64\n",
      "BILL_AMT2    30000 non-null int64\n",
      "BILL_AMT3    30000 non-null int64\n",
      "BILL_AMT4    30000 non-null int64\n",
      "BILL_AMT5    30000 non-null int64\n",
      "BILL_AMT6    30000 non-null int64\n",
      "PAY_AMT1     30000 non-null int64\n",
      "PAY_AMT2     30000 non-null int64\n",
      "PAY_AMT3     30000 non-null int64\n",
      "PAY_AMT4     30000 non-null int64\n",
      "PAY_AMT5     30000 non-null int64\n",
      "PAY_AMT6     30000 non-null int64\n",
      "Default      30000 non-null int64\n",
      "Age          30000 non-null int64\n",
      "Limit_Bal    30000 non-null int64\n",
      "dtypes: int64(24)\n",
      "memory usage: 5.5 MB\n"
     ]
    }
   ],
   "source": [
    "CreditOneNew.info()"
   ]
  },
  {
   "cell_type": "markdown",
   "metadata": {},
   "source": [
    "### Exploratory Data Analysis"
   ]
  },
  {
   "cell_type": "code",
   "execution_count": 146,
   "metadata": {},
   "outputs": [
    {
     "data": {
      "image/png": "[encoded data removed]",
      "text/plain": [
       "<Figure size 908.75x1296 with 23 Axes>"
      ]
     },
     "metadata": {
      "needs_background": "light"
     },
     "output_type": "display_data"
    }
   ],
   "source": [
    "output = 'Default'\n",
    "cols = [ f for f in CreditOneNew.columns if CreditOneNew.dtypes[ f ] != \"object\"]\n",
    "cols.remove( output ) # removing the client's behavior\n",
    "f = pd.melt(CreditOneNew , id_vars = output , value_vars=cols)#reshaping data(gathering columns into rows)\n",
    "d = {'color': ['g', 'b']}\n",
    "g = sns.FacetGrid( f, hue=output,hue_kws=d, col=\"variable\", col_wrap=4, sharex=False, sharey=False )\n",
    "g = g.map( sns.distplot, \"value\", kde=False,hist = True).add_legend()\n",
    "plt.show(g)"
   ]
  },
  {
   "cell_type": "markdown",
   "metadata": {},
   "source": [
    "#### Observation of Independent variables Vs Target Variable\n",
    "* LIMIT_BAL: The lower the amount of given credit limit, the higher chance to default.\n",
    "* SEX: Gender (1=male, 2=female): Females tend to default more than males.\n",
    "* EDUCATION: (1=graduate school, 2=university, 3=high school, 4=others): University/graduate levels tend to default more than other educational levels.\n",
    "* MARRIAGE: (1=married, 2=single, 3=others): Married/single have more chance to default.\n",
    "* AGE: The biggest chance of default is in the age group under 20-40.\n",
    "* PAY_0-6: Having a delay, for 2 months or more increases the chance of default.\n",
    "* BILL_AMT1-6: The smaller the difference between the amount owed on the bill, the bigger the chances to default.\n",
    "* PAY_AMT1-6: The smaller the payment amount, the bigger the chance of default.\n"
   ]
  },
  {
   "cell_type": "markdown",
   "metadata": {},
   "source": [
    "### Correlation Matrix"
   ]
  },
  {
   "cell_type": "code",
   "execution_count": 9,
   "metadata": {},
   "outputs": [
    {
     "data": {
      "text/plain": [
       "<matplotlib.axes._subplots.AxesSubplot at 0x2841823e7c8>"
      ]
     },
     "execution_count": 9,
     "metadata": {},
     "output_type": "execute_result"
    },
    {
     "data": {
      "image/png": "[encoded data removed]",
      "text/plain": [
       "<Figure size 2160x720 with 2 Axes>"
      ]
     },
     "metadata": {
      "needs_background": "light"
     },
     "output_type": "display_data"
    }
   ],
   "source": [
    "### Correlation Matrix\n",
    "Correlation = CreditOneNew.corr()\n",
    "Correlation\n",
    "plt.subplots(figsize=(30,10))\n",
    "sns.heatmap(Correlation, square=True, annot=True, fmt=\".1f\" )"
   ]
  },
  {
   "cell_type": "markdown",
   "metadata": {},
   "source": [
    "### Correlation of features with target variable"
   ]
  },
  {
   "cell_type": "code",
   "execution_count": 10,
   "metadata": {},
   "outputs": [
    {
     "data": {
      "text/plain": [
       "<matplotlib.axes._subplots.AxesSubplot at 0x28418fc50c8>"
      ]
     },
     "execution_count": 10,
     "metadata": {},
     "output_type": "execute_result"
    },
    {
     "data": {
      "image/png": "[encoded data removed]",
      "text/plain": [
       "<Figure size 1440x720 with 1 Axes>"
      ]
     },
     "metadata": {
      "needs_background": "light"
     },
     "output_type": "display_data"
    }
   ],
   "source": [
    "X = CreditOneNew.drop(['Default'],axis=1)\n",
    "X.corrwith(CreditOneNew['Default']).plot.bar(figsize = (20, 10), title = \"Correlation with Default\", color = 'b',\n",
    "                                        fontsize = 20,rot = 90, grid = True)"
   ]
  },
  {
   "cell_type": "markdown",
   "metadata": {},
   "source": [
    "### Covariance Estimation"
   ]
  },
  {
   "cell_type": "code",
   "execution_count": 11,
   "metadata": {},
   "outputs": [
    {
     "data": {
      "text/plain": [
       "<matplotlib.axes._subplots.AxesSubplot at 0x2841900dd88>"
      ]
     },
     "execution_count": 11,
     "metadata": {},
     "output_type": "execute_result"
    },
    {
     "data": {
      "image/png": "[encoded data removed]",
      "text/plain": [
       "<Figure size 2160x1080 with 2 Axes>"
      ]
     },
     "metadata": {
      "needs_background": "light"
     },
     "output_type": "display_data"
    }
   ],
   "source": [
    "#Co-Variance\n",
    "Covariance = CreditOneNew.cov()\n",
    "plt.figure(figsize = (30,15))\n",
    "sns.heatmap(Covariance,xticklabels=Covariance.columns, yticklabels=Covariance.columns, annot=True)"
   ]
  },
  {
   "cell_type": "markdown",
   "metadata": {},
   "source": [
    "#### Limit_Balance is highly negatively orrelated with the target variable. Repayment status is highly positively correlated. "
   ]
  },
  {
   "cell_type": "markdown",
   "metadata": {},
   "source": [
    "#### Changing the data type for categorical variables"
   ]
  },
  {
   "cell_type": "code",
   "execution_count": 12,
   "metadata": {},
   "outputs": [],
   "source": [
    "CreditOneNew['SEX'] = CreditOneNew['SEX'].astype('category')\n",
    "CreditOneNew['EDUCATION'] = CreditOneNew['EDUCATION'].astype('category')\n",
    "CreditOneNew['MARRIAGE'] = CreditOneNew['MARRIAGE'].astype('category')\n",
    "CreditOneNew['PAY_0'] = CreditOneNew['PAY_0'].astype('category')\n",
    "CreditOneNew['PAY_2'] = CreditOneNew['PAY_2'].astype('category')\n",
    "CreditOneNew['PAY_3'] = CreditOneNew['PAY_3'].astype('category')\n",
    "CreditOneNew['PAY_4'] = CreditOneNew['PAY_4'].astype('category')\n",
    "CreditOneNew['PAY_5'] = CreditOneNew['PAY_5'].astype('category')\n",
    "CreditOneNew['PAY_6'] = CreditOneNew['PAY_6'].astype('category')"
   ]
  },
  {
   "cell_type": "markdown",
   "metadata": {},
   "source": [
    "### One Hot Encoding/Dummy Variables for categorical variable\n",
    "The below categorical features are encoded with integer values "
   ]
  },
  {
   "cell_type": "code",
   "execution_count": 13,
   "metadata": {},
   "outputs": [
    {
     "data": {
      "text/html": [
       "<div>\n",
       "<style scoped>\n",
       "    .dataframe tbody tr th:only-of-type {\n",
       "        vertical-align: middle;\n",
       "    }\n",
       "\n",
       "    .dataframe tbody tr th {\n",
       "        vertical-align: top;\n",
       "    }\n",
       "\n",
       "    .dataframe thead th {\n",
       "        text-align: right;\n",
       "    }\n",
       "</style>\n",
       "<table border=\"1\" class=\"dataframe\">\n",
       "  <thead>\n",
       "    <tr style=\"text-align: right;\">\n",
       "      <th></th>\n",
       "      <th>BILL_AMT1</th>\n",
       "      <th>BILL_AMT2</th>\n",
       "      <th>BILL_AMT3</th>\n",
       "      <th>BILL_AMT4</th>\n",
       "      <th>BILL_AMT5</th>\n",
       "      <th>BILL_AMT6</th>\n",
       "      <th>PAY_AMT1</th>\n",
       "      <th>PAY_AMT2</th>\n",
       "      <th>PAY_AMT3</th>\n",
       "      <th>PAY_AMT4</th>\n",
       "      <th>...</th>\n",
       "      <th>PAY_5_8</th>\n",
       "      <th>PAY_6_-1</th>\n",
       "      <th>PAY_6_0</th>\n",
       "      <th>PAY_6_2</th>\n",
       "      <th>PAY_6_3</th>\n",
       "      <th>PAY_6_4</th>\n",
       "      <th>PAY_6_5</th>\n",
       "      <th>PAY_6_6</th>\n",
       "      <th>PAY_6_7</th>\n",
       "      <th>PAY_6_8</th>\n",
       "    </tr>\n",
       "  </thead>\n",
       "  <tbody>\n",
       "    <tr>\n",
       "      <td>0</td>\n",
       "      <td>3913</td>\n",
       "      <td>3102</td>\n",
       "      <td>689</td>\n",
       "      <td>0</td>\n",
       "      <td>0</td>\n",
       "      <td>0</td>\n",
       "      <td>0</td>\n",
       "      <td>689</td>\n",
       "      <td>0</td>\n",
       "      <td>0</td>\n",
       "      <td>...</td>\n",
       "      <td>0</td>\n",
       "      <td>0</td>\n",
       "      <td>0</td>\n",
       "      <td>0</td>\n",
       "      <td>0</td>\n",
       "      <td>0</td>\n",
       "      <td>0</td>\n",
       "      <td>0</td>\n",
       "      <td>0</td>\n",
       "      <td>0</td>\n",
       "    </tr>\n",
       "    <tr>\n",
       "      <td>1</td>\n",
       "      <td>2682</td>\n",
       "      <td>1725</td>\n",
       "      <td>2682</td>\n",
       "      <td>3272</td>\n",
       "      <td>3455</td>\n",
       "      <td>3261</td>\n",
       "      <td>0</td>\n",
       "      <td>1000</td>\n",
       "      <td>1000</td>\n",
       "      <td>1000</td>\n",
       "      <td>...</td>\n",
       "      <td>0</td>\n",
       "      <td>0</td>\n",
       "      <td>0</td>\n",
       "      <td>1</td>\n",
       "      <td>0</td>\n",
       "      <td>0</td>\n",
       "      <td>0</td>\n",
       "      <td>0</td>\n",
       "      <td>0</td>\n",
       "      <td>0</td>\n",
       "    </tr>\n",
       "    <tr>\n",
       "      <td>2</td>\n",
       "      <td>29239</td>\n",
       "      <td>14027</td>\n",
       "      <td>13559</td>\n",
       "      <td>14331</td>\n",
       "      <td>14948</td>\n",
       "      <td>15549</td>\n",
       "      <td>1518</td>\n",
       "      <td>1500</td>\n",
       "      <td>1000</td>\n",
       "      <td>1000</td>\n",
       "      <td>...</td>\n",
       "      <td>0</td>\n",
       "      <td>0</td>\n",
       "      <td>1</td>\n",
       "      <td>0</td>\n",
       "      <td>0</td>\n",
       "      <td>0</td>\n",
       "      <td>0</td>\n",
       "      <td>0</td>\n",
       "      <td>0</td>\n",
       "      <td>0</td>\n",
       "    </tr>\n",
       "    <tr>\n",
       "      <td>3</td>\n",
       "      <td>46990</td>\n",
       "      <td>48233</td>\n",
       "      <td>49291</td>\n",
       "      <td>28314</td>\n",
       "      <td>28959</td>\n",
       "      <td>29547</td>\n",
       "      <td>2000</td>\n",
       "      <td>2019</td>\n",
       "      <td>1200</td>\n",
       "      <td>1100</td>\n",
       "      <td>...</td>\n",
       "      <td>0</td>\n",
       "      <td>0</td>\n",
       "      <td>1</td>\n",
       "      <td>0</td>\n",
       "      <td>0</td>\n",
       "      <td>0</td>\n",
       "      <td>0</td>\n",
       "      <td>0</td>\n",
       "      <td>0</td>\n",
       "      <td>0</td>\n",
       "    </tr>\n",
       "    <tr>\n",
       "      <td>4</td>\n",
       "      <td>8617</td>\n",
       "      <td>5670</td>\n",
       "      <td>35835</td>\n",
       "      <td>20940</td>\n",
       "      <td>19146</td>\n",
       "      <td>19131</td>\n",
       "      <td>2000</td>\n",
       "      <td>36681</td>\n",
       "      <td>10000</td>\n",
       "      <td>9000</td>\n",
       "      <td>...</td>\n",
       "      <td>0</td>\n",
       "      <td>0</td>\n",
       "      <td>1</td>\n",
       "      <td>0</td>\n",
       "      <td>0</td>\n",
       "      <td>0</td>\n",
       "      <td>0</td>\n",
       "      <td>0</td>\n",
       "      <td>0</td>\n",
       "      <td>0</td>\n",
       "    </tr>\n",
       "    <tr>\n",
       "      <td>...</td>\n",
       "      <td>...</td>\n",
       "      <td>...</td>\n",
       "      <td>...</td>\n",
       "      <td>...</td>\n",
       "      <td>...</td>\n",
       "      <td>...</td>\n",
       "      <td>...</td>\n",
       "      <td>...</td>\n",
       "      <td>...</td>\n",
       "      <td>...</td>\n",
       "      <td>...</td>\n",
       "      <td>...</td>\n",
       "      <td>...</td>\n",
       "      <td>...</td>\n",
       "      <td>...</td>\n",
       "      <td>...</td>\n",
       "      <td>...</td>\n",
       "      <td>...</td>\n",
       "      <td>...</td>\n",
       "      <td>...</td>\n",
       "      <td>...</td>\n",
       "    </tr>\n",
       "    <tr>\n",
       "      <td>29995</td>\n",
       "      <td>188948</td>\n",
       "      <td>192815</td>\n",
       "      <td>208365</td>\n",
       "      <td>88004</td>\n",
       "      <td>31237</td>\n",
       "      <td>15980</td>\n",
       "      <td>8500</td>\n",
       "      <td>20000</td>\n",
       "      <td>5003</td>\n",
       "      <td>3047</td>\n",
       "      <td>...</td>\n",
       "      <td>0</td>\n",
       "      <td>0</td>\n",
       "      <td>1</td>\n",
       "      <td>0</td>\n",
       "      <td>0</td>\n",
       "      <td>0</td>\n",
       "      <td>0</td>\n",
       "      <td>0</td>\n",
       "      <td>0</td>\n",
       "      <td>0</td>\n",
       "    </tr>\n",
       "    <tr>\n",
       "      <td>29996</td>\n",
       "      <td>1683</td>\n",
       "      <td>1828</td>\n",
       "      <td>3502</td>\n",
       "      <td>8979</td>\n",
       "      <td>5190</td>\n",
       "      <td>0</td>\n",
       "      <td>1837</td>\n",
       "      <td>3526</td>\n",
       "      <td>8998</td>\n",
       "      <td>129</td>\n",
       "      <td>...</td>\n",
       "      <td>0</td>\n",
       "      <td>0</td>\n",
       "      <td>1</td>\n",
       "      <td>0</td>\n",
       "      <td>0</td>\n",
       "      <td>0</td>\n",
       "      <td>0</td>\n",
       "      <td>0</td>\n",
       "      <td>0</td>\n",
       "      <td>0</td>\n",
       "    </tr>\n",
       "    <tr>\n",
       "      <td>29997</td>\n",
       "      <td>3565</td>\n",
       "      <td>3356</td>\n",
       "      <td>2758</td>\n",
       "      <td>20878</td>\n",
       "      <td>20582</td>\n",
       "      <td>19357</td>\n",
       "      <td>0</td>\n",
       "      <td>0</td>\n",
       "      <td>22000</td>\n",
       "      <td>4200</td>\n",
       "      <td>...</td>\n",
       "      <td>0</td>\n",
       "      <td>0</td>\n",
       "      <td>1</td>\n",
       "      <td>0</td>\n",
       "      <td>0</td>\n",
       "      <td>0</td>\n",
       "      <td>0</td>\n",
       "      <td>0</td>\n",
       "      <td>0</td>\n",
       "      <td>0</td>\n",
       "    </tr>\n",
       "    <tr>\n",
       "      <td>29998</td>\n",
       "      <td>-1645</td>\n",
       "      <td>78379</td>\n",
       "      <td>76304</td>\n",
       "      <td>52774</td>\n",
       "      <td>11855</td>\n",
       "      <td>48944</td>\n",
       "      <td>85900</td>\n",
       "      <td>3409</td>\n",
       "      <td>1178</td>\n",
       "      <td>1926</td>\n",
       "      <td>...</td>\n",
       "      <td>0</td>\n",
       "      <td>1</td>\n",
       "      <td>0</td>\n",
       "      <td>0</td>\n",
       "      <td>0</td>\n",
       "      <td>0</td>\n",
       "      <td>0</td>\n",
       "      <td>0</td>\n",
       "      <td>0</td>\n",
       "      <td>0</td>\n",
       "    </tr>\n",
       "    <tr>\n",
       "      <td>29999</td>\n",
       "      <td>47929</td>\n",
       "      <td>48905</td>\n",
       "      <td>49764</td>\n",
       "      <td>36535</td>\n",
       "      <td>32428</td>\n",
       "      <td>15313</td>\n",
       "      <td>2078</td>\n",
       "      <td>1800</td>\n",
       "      <td>1430</td>\n",
       "      <td>1000</td>\n",
       "      <td>...</td>\n",
       "      <td>0</td>\n",
       "      <td>0</td>\n",
       "      <td>1</td>\n",
       "      <td>0</td>\n",
       "      <td>0</td>\n",
       "      <td>0</td>\n",
       "      <td>0</td>\n",
       "      <td>0</td>\n",
       "      <td>0</td>\n",
       "      <td>0</td>\n",
       "    </tr>\n",
       "  </tbody>\n",
       "</table>\n",
       "<p>30000 rows × 79 columns</p>\n",
       "</div>"
      ],
      "text/plain": [
       "       BILL_AMT1  BILL_AMT2  BILL_AMT3  BILL_AMT4  BILL_AMT5  BILL_AMT6  \\\n",
       "0           3913       3102        689          0          0          0   \n",
       "1           2682       1725       2682       3272       3455       3261   \n",
       "2          29239      14027      13559      14331      14948      15549   \n",
       "3          46990      48233      49291      28314      28959      29547   \n",
       "4           8617       5670      35835      20940      19146      19131   \n",
       "...          ...        ...        ...        ...        ...        ...   \n",
       "29995     188948     192815     208365      88004      31237      15980   \n",
       "29996       1683       1828       3502       8979       5190          0   \n",
       "29997       3565       3356       2758      20878      20582      19357   \n",
       "29998      -1645      78379      76304      52774      11855      48944   \n",
       "29999      47929      48905      49764      36535      32428      15313   \n",
       "\n",
       "       PAY_AMT1  PAY_AMT2  PAY_AMT3  PAY_AMT4  ...  PAY_5_8  PAY_6_-1  \\\n",
       "0             0       689         0         0  ...        0         0   \n",
       "1             0      1000      1000      1000  ...        0         0   \n",
       "2          1518      1500      1000      1000  ...        0         0   \n",
       "3          2000      2019      1200      1100  ...        0         0   \n",
       "4          2000     36681     10000      9000  ...        0         0   \n",
       "...         ...       ...       ...       ...  ...      ...       ...   \n",
       "29995      8500     20000      5003      3047  ...        0         0   \n",
       "29996      1837      3526      8998       129  ...        0         0   \n",
       "29997         0         0     22000      4200  ...        0         0   \n",
       "29998     85900      3409      1178      1926  ...        0         1   \n",
       "29999      2078      1800      1430      1000  ...        0         0   \n",
       "\n",
       "       PAY_6_0  PAY_6_2  PAY_6_3  PAY_6_4  PAY_6_5  PAY_6_6  PAY_6_7  PAY_6_8  \n",
       "0            0        0        0        0        0        0        0        0  \n",
       "1            0        1        0        0        0        0        0        0  \n",
       "2            1        0        0        0        0        0        0        0  \n",
       "3            1        0        0        0        0        0        0        0  \n",
       "4            1        0        0        0        0        0        0        0  \n",
       "...        ...      ...      ...      ...      ...      ...      ...      ...  \n",
       "29995        1        0        0        0        0        0        0        0  \n",
       "29996        1        0        0        0        0        0        0        0  \n",
       "29997        1        0        0        0        0        0        0        0  \n",
       "29998        0        0        0        0        0        0        0        0  \n",
       "29999        1        0        0        0        0        0        0        0  \n",
       "\n",
       "[30000 rows x 79 columns]"
      ]
     },
     "execution_count": 13,
     "metadata": {},
     "output_type": "execute_result"
    }
   ],
   "source": [
    "#Make a list of categorical columns\n",
    "categorical_vars = ['SEX', 'EDUCATION', 'MARRIAGE', \n",
    "                    'PAY_0', 'PAY_2', 'PAY_3', \n",
    "                   'PAY_4', 'PAY_5', 'PAY_6']\n",
    "categorical_vars \n",
    "\n",
    "#CreditOneNew[categorical_vars] = CreditOneNew[categorical_vars].astype('object')\n",
    "CreditOneNew[categorical_vars]\n",
    "\n",
    "CreditOneNew = pd.get_dummies(CreditOneNew, \n",
    "                         columns=categorical_vars, \n",
    "                         drop_first=True)\n",
    "CreditOneNew\n",
    "\n"
   ]
  },
  {
   "cell_type": "code",
   "execution_count": 505,
   "metadata": {},
   "outputs": [
    {
     "data": {
      "text/plain": [
       "Index(['Default', 'BILL_AMT1', 'BILL_AMT2', 'BILL_AMT3', 'BILL_AMT4',\n",
       "       'BILL_AMT5', 'BILL_AMT6', 'PAY_AMT1', 'PAY_AMT2', 'PAY_AMT3',\n",
       "       'PAY_AMT4', 'PAY_AMT5', 'PAY_AMT6', 'Age', 'Limit_Bal', 'SEX_2',\n",
       "       'EDUCATION_2', 'EDUCATION_3', 'EDUCATION_4', 'MARRIAGE_2', 'MARRIAGE_3',\n",
       "       'PAY_0_-1', 'PAY_0_0', 'PAY_0_1', 'PAY_0_2', 'PAY_0_3', 'PAY_0_4',\n",
       "       'PAY_0_5', 'PAY_0_6', 'PAY_0_7', 'PAY_0_8', 'PAY_2_-1', 'PAY_2_0',\n",
       "       'PAY_2_1', 'PAY_2_2', 'PAY_2_3', 'PAY_2_4', 'PAY_2_5', 'PAY_2_6',\n",
       "       'PAY_2_7', 'PAY_2_8', 'PAY_3_-1', 'PAY_3_0', 'PAY_3_1', 'PAY_3_2',\n",
       "       'PAY_3_3', 'PAY_3_4', 'PAY_3_5', 'PAY_3_6', 'PAY_3_7', 'PAY_3_8',\n",
       "       'PAY_4_-1', 'PAY_4_0', 'PAY_4_1', 'PAY_4_2', 'PAY_4_3', 'PAY_4_4',\n",
       "       'PAY_4_5', 'PAY_4_6', 'PAY_4_7', 'PAY_4_8', 'PAY_5_-1', 'PAY_5_0',\n",
       "       'PAY_5_2', 'PAY_5_3', 'PAY_5_4', 'PAY_5_5', 'PAY_5_6', 'PAY_5_7',\n",
       "       'PAY_5_8', 'PAY_6_-1', 'PAY_6_0', 'PAY_6_2', 'PAY_6_3', 'PAY_6_4',\n",
       "       'PAY_6_5', 'PAY_6_6', 'PAY_6_7', 'PAY_6_8'],\n",
       "      dtype='object')"
      ]
     },
     "execution_count": 505,
     "metadata": {},
     "output_type": "execute_result"
    }
   ],
   "source": [
    "CreditOneNew.columns\n"
   ]
  },
  {
   "cell_type": "markdown",
   "metadata": {},
   "source": [
    "### Standardization\n",
    "Transformed these attributes and age and Limit Bal to have a mean of zero and a standard deviation of 1"
   ]
  },
  {
   "cell_type": "code",
   "execution_count": 15,
   "metadata": {},
   "outputs": [],
   "source": [
    "Col_2_Std = ['Limit_Bal', 'Age', 'BILL_AMT1', 'BILL_AMT2' ,'BILL_AMT3','BILL_AMT4','BILL_AMT5','BILL_AMT6',\n",
    "               'PAY_AMT1','PAY_AMT2','PAY_AMT3','PAY_AMT4','PAY_AMT5','PAY_AMT6']\n",
    "#Std_X = preprocessing.scale(Col_2_Std)\n",
    "CreditOneNew[Col_2_Std] = CreditOneNew[Col_2_Std].apply(lambda x : (x-np.mean(x))/np.std(x))"
   ]
  },
  {
   "cell_type": "code",
   "execution_count": 411,
   "metadata": {},
   "outputs": [
    {
     "data": {
      "text/html": [
       "<div>\n",
       "<style scoped>\n",
       "    .dataframe tbody tr th:only-of-type {\n",
       "        vertical-align: middle;\n",
       "    }\n",
       "\n",
       "    .dataframe tbody tr th {\n",
       "        vertical-align: top;\n",
       "    }\n",
       "\n",
       "    .dataframe thead th {\n",
       "        text-align: right;\n",
       "    }\n",
       "</style>\n",
       "<table border=\"1\" class=\"dataframe\">\n",
       "  <thead>\n",
       "    <tr style=\"text-align: right;\">\n",
       "      <th></th>\n",
       "      <th>Limit_Bal</th>\n",
       "      <th>Age</th>\n",
       "      <th>BILL_AMT1</th>\n",
       "      <th>BILL_AMT2</th>\n",
       "      <th>BILL_AMT3</th>\n",
       "      <th>BILL_AMT4</th>\n",
       "      <th>BILL_AMT5</th>\n",
       "      <th>BILL_AMT6</th>\n",
       "      <th>PAY_AMT1</th>\n",
       "      <th>PAY_AMT2</th>\n",
       "      <th>PAY_AMT3</th>\n",
       "      <th>PAY_AMT4</th>\n",
       "      <th>PAY_AMT5</th>\n",
       "      <th>PAY_AMT6</th>\n",
       "    </tr>\n",
       "  </thead>\n",
       "  <tbody>\n",
       "    <tr>\n",
       "      <td>0</td>\n",
       "      <td>-0.902261</td>\n",
       "      <td>-1.114813</td>\n",
       "      <td>-0.642501</td>\n",
       "      <td>-0.647399</td>\n",
       "      <td>-0.667993</td>\n",
       "      <td>-0.672497</td>\n",
       "      <td>-0.663059</td>\n",
       "      <td>-0.652724</td>\n",
       "      <td>-0.341942</td>\n",
       "      <td>-0.227086</td>\n",
       "      <td>-0.296801</td>\n",
       "      <td>-0.308063</td>\n",
       "      <td>-0.314136</td>\n",
       "      <td>-0.293382</td>\n",
       "    </tr>\n",
       "    <tr>\n",
       "      <td>1</td>\n",
       "      <td>-0.101461</td>\n",
       "      <td>-1.114813</td>\n",
       "      <td>-0.659219</td>\n",
       "      <td>-0.666747</td>\n",
       "      <td>-0.639254</td>\n",
       "      <td>-0.621636</td>\n",
       "      <td>-0.606229</td>\n",
       "      <td>-0.597966</td>\n",
       "      <td>-0.341942</td>\n",
       "      <td>-0.213588</td>\n",
       "      <td>-0.240005</td>\n",
       "      <td>-0.244230</td>\n",
       "      <td>-0.314136</td>\n",
       "      <td>-0.180878</td>\n",
       "    </tr>\n",
       "    <tr>\n",
       "      <td>2</td>\n",
       "      <td>-0.902261</td>\n",
       "      <td>-0.087967</td>\n",
       "      <td>-0.298560</td>\n",
       "      <td>-0.493899</td>\n",
       "      <td>-0.482408</td>\n",
       "      <td>-0.449730</td>\n",
       "      <td>-0.417188</td>\n",
       "      <td>-0.391630</td>\n",
       "      <td>-0.250292</td>\n",
       "      <td>-0.191887</td>\n",
       "      <td>-0.240005</td>\n",
       "      <td>-0.244230</td>\n",
       "      <td>-0.248683</td>\n",
       "      <td>-0.012122</td>\n",
       "    </tr>\n",
       "    <tr>\n",
       "      <td>3</td>\n",
       "      <td>-0.902261</td>\n",
       "      <td>-0.087967</td>\n",
       "      <td>-0.057491</td>\n",
       "      <td>-0.013293</td>\n",
       "      <td>0.032846</td>\n",
       "      <td>-0.232373</td>\n",
       "      <td>-0.186729</td>\n",
       "      <td>-0.156579</td>\n",
       "      <td>-0.221191</td>\n",
       "      <td>-0.169361</td>\n",
       "      <td>-0.228645</td>\n",
       "      <td>-0.237846</td>\n",
       "      <td>-0.244166</td>\n",
       "      <td>-0.237130</td>\n",
       "    </tr>\n",
       "    <tr>\n",
       "      <td>4</td>\n",
       "      <td>-0.902261</td>\n",
       "      <td>1.965726</td>\n",
       "      <td>-0.578618</td>\n",
       "      <td>-0.611318</td>\n",
       "      <td>-0.161189</td>\n",
       "      <td>-0.346997</td>\n",
       "      <td>-0.348137</td>\n",
       "      <td>-0.331482</td>\n",
       "      <td>-0.221191</td>\n",
       "      <td>1.335034</td>\n",
       "      <td>0.271165</td>\n",
       "      <td>0.266434</td>\n",
       "      <td>-0.269039</td>\n",
       "      <td>-0.255187</td>\n",
       "    </tr>\n",
       "    <tr>\n",
       "      <td>...</td>\n",
       "      <td>...</td>\n",
       "      <td>...</td>\n",
       "      <td>...</td>\n",
       "      <td>...</td>\n",
       "      <td>...</td>\n",
       "      <td>...</td>\n",
       "      <td>...</td>\n",
       "      <td>...</td>\n",
       "      <td>...</td>\n",
       "      <td>...</td>\n",
       "      <td>...</td>\n",
       "      <td>...</td>\n",
       "      <td>...</td>\n",
       "      <td>...</td>\n",
       "    </tr>\n",
       "    <tr>\n",
       "      <td>29995</td>\n",
       "      <td>0.699338</td>\n",
       "      <td>-0.087967</td>\n",
       "      <td>1.870379</td>\n",
       "      <td>2.018136</td>\n",
       "      <td>2.326690</td>\n",
       "      <td>0.695474</td>\n",
       "      <td>-0.149259</td>\n",
       "      <td>-0.384392</td>\n",
       "      <td>0.171250</td>\n",
       "      <td>0.611048</td>\n",
       "      <td>-0.012648</td>\n",
       "      <td>-0.113564</td>\n",
       "      <td>0.013131</td>\n",
       "      <td>-0.237130</td>\n",
       "    </tr>\n",
       "    <tr>\n",
       "      <td>29996</td>\n",
       "      <td>-0.101461</td>\n",
       "      <td>0.938880</td>\n",
       "      <td>-0.672786</td>\n",
       "      <td>-0.665299</td>\n",
       "      <td>-0.627430</td>\n",
       "      <td>-0.532924</td>\n",
       "      <td>-0.577691</td>\n",
       "      <td>-0.652724</td>\n",
       "      <td>-0.231032</td>\n",
       "      <td>-0.103955</td>\n",
       "      <td>0.214255</td>\n",
       "      <td>-0.299828</td>\n",
       "      <td>-0.314136</td>\n",
       "      <td>-0.293382</td>\n",
       "    </tr>\n",
       "    <tr>\n",
       "      <td>29997</td>\n",
       "      <td>-0.902261</td>\n",
       "      <td>-0.087967</td>\n",
       "      <td>-0.647227</td>\n",
       "      <td>-0.643830</td>\n",
       "      <td>-0.638158</td>\n",
       "      <td>-0.347961</td>\n",
       "      <td>-0.324517</td>\n",
       "      <td>-0.327687</td>\n",
       "      <td>-0.341942</td>\n",
       "      <td>-0.256990</td>\n",
       "      <td>0.952725</td>\n",
       "      <td>-0.039964</td>\n",
       "      <td>-0.183229</td>\n",
       "      <td>-0.119001</td>\n",
       "    </tr>\n",
       "    <tr>\n",
       "      <td>29998</td>\n",
       "      <td>-0.902261</td>\n",
       "      <td>0.938880</td>\n",
       "      <td>-0.717982</td>\n",
       "      <td>0.410269</td>\n",
       "      <td>0.422373</td>\n",
       "      <td>0.147844</td>\n",
       "      <td>-0.468063</td>\n",
       "      <td>0.169130</td>\n",
       "      <td>4.844316</td>\n",
       "      <td>-0.109033</td>\n",
       "      <td>-0.229895</td>\n",
       "      <td>-0.185120</td>\n",
       "      <td>3.152536</td>\n",
       "      <td>-0.191904</td>\n",
       "    </tr>\n",
       "    <tr>\n",
       "      <td>29999</td>\n",
       "      <td>-0.902261</td>\n",
       "      <td>0.938880</td>\n",
       "      <td>-0.044739</td>\n",
       "      <td>-0.003851</td>\n",
       "      <td>0.039667</td>\n",
       "      <td>-0.104582</td>\n",
       "      <td>-0.129669</td>\n",
       "      <td>-0.395592</td>\n",
       "      <td>-0.216481</td>\n",
       "      <td>-0.178866</td>\n",
       "      <td>-0.215582</td>\n",
       "      <td>-0.244230</td>\n",
       "      <td>-0.248683</td>\n",
       "      <td>-0.237130</td>\n",
       "    </tr>\n",
       "  </tbody>\n",
       "</table>\n",
       "<p>30000 rows × 14 columns</p>\n",
       "</div>"
      ],
      "text/plain": [
       "       Limit_Bal       Age  BILL_AMT1  BILL_AMT2  BILL_AMT3  BILL_AMT4  \\\n",
       "0      -0.902261 -1.114813  -0.642501  -0.647399  -0.667993  -0.672497   \n",
       "1      -0.101461 -1.114813  -0.659219  -0.666747  -0.639254  -0.621636   \n",
       "2      -0.902261 -0.087967  -0.298560  -0.493899  -0.482408  -0.449730   \n",
       "3      -0.902261 -0.087967  -0.057491  -0.013293   0.032846  -0.232373   \n",
       "4      -0.902261  1.965726  -0.578618  -0.611318  -0.161189  -0.346997   \n",
       "...          ...       ...        ...        ...        ...        ...   \n",
       "29995   0.699338 -0.087967   1.870379   2.018136   2.326690   0.695474   \n",
       "29996  -0.101461  0.938880  -0.672786  -0.665299  -0.627430  -0.532924   \n",
       "29997  -0.902261 -0.087967  -0.647227  -0.643830  -0.638158  -0.347961   \n",
       "29998  -0.902261  0.938880  -0.717982   0.410269   0.422373   0.147844   \n",
       "29999  -0.902261  0.938880  -0.044739  -0.003851   0.039667  -0.104582   \n",
       "\n",
       "       BILL_AMT5  BILL_AMT6  PAY_AMT1  PAY_AMT2  PAY_AMT3  PAY_AMT4  PAY_AMT5  \\\n",
       "0      -0.663059  -0.652724 -0.341942 -0.227086 -0.296801 -0.308063 -0.314136   \n",
       "1      -0.606229  -0.597966 -0.341942 -0.213588 -0.240005 -0.244230 -0.314136   \n",
       "2      -0.417188  -0.391630 -0.250292 -0.191887 -0.240005 -0.244230 -0.248683   \n",
       "3      -0.186729  -0.156579 -0.221191 -0.169361 -0.228645 -0.237846 -0.244166   \n",
       "4      -0.348137  -0.331482 -0.221191  1.335034  0.271165  0.266434 -0.269039   \n",
       "...          ...        ...       ...       ...       ...       ...       ...   \n",
       "29995  -0.149259  -0.384392  0.171250  0.611048 -0.012648 -0.113564  0.013131   \n",
       "29996  -0.577691  -0.652724 -0.231032 -0.103955  0.214255 -0.299828 -0.314136   \n",
       "29997  -0.324517  -0.327687 -0.341942 -0.256990  0.952725 -0.039964 -0.183229   \n",
       "29998  -0.468063   0.169130  4.844316 -0.109033 -0.229895 -0.185120  3.152536   \n",
       "29999  -0.129669  -0.395592 -0.216481 -0.178866 -0.215582 -0.244230 -0.248683   \n",
       "\n",
       "       PAY_AMT6  \n",
       "0     -0.293382  \n",
       "1     -0.180878  \n",
       "2     -0.012122  \n",
       "3     -0.237130  \n",
       "4     -0.255187  \n",
       "...         ...  \n",
       "29995 -0.237130  \n",
       "29996 -0.293382  \n",
       "29997 -0.119001  \n",
       "29998 -0.191904  \n",
       "29999 -0.237130  \n",
       "\n",
       "[30000 rows x 14 columns]"
      ]
     },
     "execution_count": 411,
     "metadata": {},
     "output_type": "execute_result"
    }
   ],
   "source": [
    "CreditOneNew[Col_2_Std]"
   ]
  },
  {
   "cell_type": "code",
   "execution_count": 16,
   "metadata": {},
   "outputs": [
    {
     "data": {
      "text/html": [
       "<div>\n",
       "<style scoped>\n",
       "    .dataframe tbody tr th:only-of-type {\n",
       "        vertical-align: middle;\n",
       "    }\n",
       "\n",
       "    .dataframe tbody tr th {\n",
       "        vertical-align: top;\n",
       "    }\n",
       "\n",
       "    .dataframe thead th {\n",
       "        text-align: right;\n",
       "    }\n",
       "</style>\n",
       "<table border=\"1\" class=\"dataframe\">\n",
       "  <thead>\n",
       "    <tr style=\"text-align: right;\">\n",
       "      <th></th>\n",
       "      <th>BILL_AMT1</th>\n",
       "      <th>BILL_AMT2</th>\n",
       "      <th>BILL_AMT3</th>\n",
       "      <th>BILL_AMT4</th>\n",
       "      <th>BILL_AMT5</th>\n",
       "      <th>BILL_AMT6</th>\n",
       "      <th>PAY_AMT1</th>\n",
       "      <th>PAY_AMT2</th>\n",
       "      <th>PAY_AMT3</th>\n",
       "      <th>PAY_AMT4</th>\n",
       "      <th>...</th>\n",
       "      <th>PAY_5_8</th>\n",
       "      <th>PAY_6_-1</th>\n",
       "      <th>PAY_6_0</th>\n",
       "      <th>PAY_6_2</th>\n",
       "      <th>PAY_6_3</th>\n",
       "      <th>PAY_6_4</th>\n",
       "      <th>PAY_6_5</th>\n",
       "      <th>PAY_6_6</th>\n",
       "      <th>PAY_6_7</th>\n",
       "      <th>PAY_6_8</th>\n",
       "    </tr>\n",
       "  </thead>\n",
       "  <tbody>\n",
       "    <tr>\n",
       "      <td>0</td>\n",
       "      <td>-0.642501</td>\n",
       "      <td>-0.647399</td>\n",
       "      <td>-0.667993</td>\n",
       "      <td>-0.672497</td>\n",
       "      <td>-0.663059</td>\n",
       "      <td>-0.652724</td>\n",
       "      <td>-0.341942</td>\n",
       "      <td>-0.227086</td>\n",
       "      <td>-0.296801</td>\n",
       "      <td>-0.308063</td>\n",
       "      <td>...</td>\n",
       "      <td>0</td>\n",
       "      <td>0</td>\n",
       "      <td>0</td>\n",
       "      <td>0</td>\n",
       "      <td>0</td>\n",
       "      <td>0</td>\n",
       "      <td>0</td>\n",
       "      <td>0</td>\n",
       "      <td>0</td>\n",
       "      <td>0</td>\n",
       "    </tr>\n",
       "    <tr>\n",
       "      <td>1</td>\n",
       "      <td>-0.659219</td>\n",
       "      <td>-0.666747</td>\n",
       "      <td>-0.639254</td>\n",
       "      <td>-0.621636</td>\n",
       "      <td>-0.606229</td>\n",
       "      <td>-0.597966</td>\n",
       "      <td>-0.341942</td>\n",
       "      <td>-0.213588</td>\n",
       "      <td>-0.240005</td>\n",
       "      <td>-0.244230</td>\n",
       "      <td>...</td>\n",
       "      <td>0</td>\n",
       "      <td>0</td>\n",
       "      <td>0</td>\n",
       "      <td>1</td>\n",
       "      <td>0</td>\n",
       "      <td>0</td>\n",
       "      <td>0</td>\n",
       "      <td>0</td>\n",
       "      <td>0</td>\n",
       "      <td>0</td>\n",
       "    </tr>\n",
       "    <tr>\n",
       "      <td>2</td>\n",
       "      <td>-0.298560</td>\n",
       "      <td>-0.493899</td>\n",
       "      <td>-0.482408</td>\n",
       "      <td>-0.449730</td>\n",
       "      <td>-0.417188</td>\n",
       "      <td>-0.391630</td>\n",
       "      <td>-0.250292</td>\n",
       "      <td>-0.191887</td>\n",
       "      <td>-0.240005</td>\n",
       "      <td>-0.244230</td>\n",
       "      <td>...</td>\n",
       "      <td>0</td>\n",
       "      <td>0</td>\n",
       "      <td>1</td>\n",
       "      <td>0</td>\n",
       "      <td>0</td>\n",
       "      <td>0</td>\n",
       "      <td>0</td>\n",
       "      <td>0</td>\n",
       "      <td>0</td>\n",
       "      <td>0</td>\n",
       "    </tr>\n",
       "    <tr>\n",
       "      <td>3</td>\n",
       "      <td>-0.057491</td>\n",
       "      <td>-0.013293</td>\n",
       "      <td>0.032846</td>\n",
       "      <td>-0.232373</td>\n",
       "      <td>-0.186729</td>\n",
       "      <td>-0.156579</td>\n",
       "      <td>-0.221191</td>\n",
       "      <td>-0.169361</td>\n",
       "      <td>-0.228645</td>\n",
       "      <td>-0.237846</td>\n",
       "      <td>...</td>\n",
       "      <td>0</td>\n",
       "      <td>0</td>\n",
       "      <td>1</td>\n",
       "      <td>0</td>\n",
       "      <td>0</td>\n",
       "      <td>0</td>\n",
       "      <td>0</td>\n",
       "      <td>0</td>\n",
       "      <td>0</td>\n",
       "      <td>0</td>\n",
       "    </tr>\n",
       "    <tr>\n",
       "      <td>4</td>\n",
       "      <td>-0.578618</td>\n",
       "      <td>-0.611318</td>\n",
       "      <td>-0.161189</td>\n",
       "      <td>-0.346997</td>\n",
       "      <td>-0.348137</td>\n",
       "      <td>-0.331482</td>\n",
       "      <td>-0.221191</td>\n",
       "      <td>1.335034</td>\n",
       "      <td>0.271165</td>\n",
       "      <td>0.266434</td>\n",
       "      <td>...</td>\n",
       "      <td>0</td>\n",
       "      <td>0</td>\n",
       "      <td>1</td>\n",
       "      <td>0</td>\n",
       "      <td>0</td>\n",
       "      <td>0</td>\n",
       "      <td>0</td>\n",
       "      <td>0</td>\n",
       "      <td>0</td>\n",
       "      <td>0</td>\n",
       "    </tr>\n",
       "    <tr>\n",
       "      <td>...</td>\n",
       "      <td>...</td>\n",
       "      <td>...</td>\n",
       "      <td>...</td>\n",
       "      <td>...</td>\n",
       "      <td>...</td>\n",
       "      <td>...</td>\n",
       "      <td>...</td>\n",
       "      <td>...</td>\n",
       "      <td>...</td>\n",
       "      <td>...</td>\n",
       "      <td>...</td>\n",
       "      <td>...</td>\n",
       "      <td>...</td>\n",
       "      <td>...</td>\n",
       "      <td>...</td>\n",
       "      <td>...</td>\n",
       "      <td>...</td>\n",
       "      <td>...</td>\n",
       "      <td>...</td>\n",
       "      <td>...</td>\n",
       "      <td>...</td>\n",
       "    </tr>\n",
       "    <tr>\n",
       "      <td>29995</td>\n",
       "      <td>1.870379</td>\n",
       "      <td>2.018136</td>\n",
       "      <td>2.326690</td>\n",
       "      <td>0.695474</td>\n",
       "      <td>-0.149259</td>\n",
       "      <td>-0.384392</td>\n",
       "      <td>0.171250</td>\n",
       "      <td>0.611048</td>\n",
       "      <td>-0.012648</td>\n",
       "      <td>-0.113564</td>\n",
       "      <td>...</td>\n",
       "      <td>0</td>\n",
       "      <td>0</td>\n",
       "      <td>1</td>\n",
       "      <td>0</td>\n",
       "      <td>0</td>\n",
       "      <td>0</td>\n",
       "      <td>0</td>\n",
       "      <td>0</td>\n",
       "      <td>0</td>\n",
       "      <td>0</td>\n",
       "    </tr>\n",
       "    <tr>\n",
       "      <td>29996</td>\n",
       "      <td>-0.672786</td>\n",
       "      <td>-0.665299</td>\n",
       "      <td>-0.627430</td>\n",
       "      <td>-0.532924</td>\n",
       "      <td>-0.577691</td>\n",
       "      <td>-0.652724</td>\n",
       "      <td>-0.231032</td>\n",
       "      <td>-0.103955</td>\n",
       "      <td>0.214255</td>\n",
       "      <td>-0.299828</td>\n",
       "      <td>...</td>\n",
       "      <td>0</td>\n",
       "      <td>0</td>\n",
       "      <td>1</td>\n",
       "      <td>0</td>\n",
       "      <td>0</td>\n",
       "      <td>0</td>\n",
       "      <td>0</td>\n",
       "      <td>0</td>\n",
       "      <td>0</td>\n",
       "      <td>0</td>\n",
       "    </tr>\n",
       "    <tr>\n",
       "      <td>29997</td>\n",
       "      <td>-0.647227</td>\n",
       "      <td>-0.643830</td>\n",
       "      <td>-0.638158</td>\n",
       "      <td>-0.347961</td>\n",
       "      <td>-0.324517</td>\n",
       "      <td>-0.327687</td>\n",
       "      <td>-0.341942</td>\n",
       "      <td>-0.256990</td>\n",
       "      <td>0.952725</td>\n",
       "      <td>-0.039964</td>\n",
       "      <td>...</td>\n",
       "      <td>0</td>\n",
       "      <td>0</td>\n",
       "      <td>1</td>\n",
       "      <td>0</td>\n",
       "      <td>0</td>\n",
       "      <td>0</td>\n",
       "      <td>0</td>\n",
       "      <td>0</td>\n",
       "      <td>0</td>\n",
       "      <td>0</td>\n",
       "    </tr>\n",
       "    <tr>\n",
       "      <td>29998</td>\n",
       "      <td>-0.717982</td>\n",
       "      <td>0.410269</td>\n",
       "      <td>0.422373</td>\n",
       "      <td>0.147844</td>\n",
       "      <td>-0.468063</td>\n",
       "      <td>0.169130</td>\n",
       "      <td>4.844316</td>\n",
       "      <td>-0.109033</td>\n",
       "      <td>-0.229895</td>\n",
       "      <td>-0.185120</td>\n",
       "      <td>...</td>\n",
       "      <td>0</td>\n",
       "      <td>1</td>\n",
       "      <td>0</td>\n",
       "      <td>0</td>\n",
       "      <td>0</td>\n",
       "      <td>0</td>\n",
       "      <td>0</td>\n",
       "      <td>0</td>\n",
       "      <td>0</td>\n",
       "      <td>0</td>\n",
       "    </tr>\n",
       "    <tr>\n",
       "      <td>29999</td>\n",
       "      <td>-0.044739</td>\n",
       "      <td>-0.003851</td>\n",
       "      <td>0.039667</td>\n",
       "      <td>-0.104582</td>\n",
       "      <td>-0.129669</td>\n",
       "      <td>-0.395592</td>\n",
       "      <td>-0.216481</td>\n",
       "      <td>-0.178866</td>\n",
       "      <td>-0.215582</td>\n",
       "      <td>-0.244230</td>\n",
       "      <td>...</td>\n",
       "      <td>0</td>\n",
       "      <td>0</td>\n",
       "      <td>1</td>\n",
       "      <td>0</td>\n",
       "      <td>0</td>\n",
       "      <td>0</td>\n",
       "      <td>0</td>\n",
       "      <td>0</td>\n",
       "      <td>0</td>\n",
       "      <td>0</td>\n",
       "    </tr>\n",
       "  </tbody>\n",
       "</table>\n",
       "<p>30000 rows × 79 columns</p>\n",
       "</div>"
      ],
      "text/plain": [
       "       BILL_AMT1  BILL_AMT2  BILL_AMT3  BILL_AMT4  BILL_AMT5  BILL_AMT6  \\\n",
       "0      -0.642501  -0.647399  -0.667993  -0.672497  -0.663059  -0.652724   \n",
       "1      -0.659219  -0.666747  -0.639254  -0.621636  -0.606229  -0.597966   \n",
       "2      -0.298560  -0.493899  -0.482408  -0.449730  -0.417188  -0.391630   \n",
       "3      -0.057491  -0.013293   0.032846  -0.232373  -0.186729  -0.156579   \n",
       "4      -0.578618  -0.611318  -0.161189  -0.346997  -0.348137  -0.331482   \n",
       "...          ...        ...        ...        ...        ...        ...   \n",
       "29995   1.870379   2.018136   2.326690   0.695474  -0.149259  -0.384392   \n",
       "29996  -0.672786  -0.665299  -0.627430  -0.532924  -0.577691  -0.652724   \n",
       "29997  -0.647227  -0.643830  -0.638158  -0.347961  -0.324517  -0.327687   \n",
       "29998  -0.717982   0.410269   0.422373   0.147844  -0.468063   0.169130   \n",
       "29999  -0.044739  -0.003851   0.039667  -0.104582  -0.129669  -0.395592   \n",
       "\n",
       "       PAY_AMT1  PAY_AMT2  PAY_AMT3  PAY_AMT4  ...  PAY_5_8  PAY_6_-1  \\\n",
       "0     -0.341942 -0.227086 -0.296801 -0.308063  ...        0         0   \n",
       "1     -0.341942 -0.213588 -0.240005 -0.244230  ...        0         0   \n",
       "2     -0.250292 -0.191887 -0.240005 -0.244230  ...        0         0   \n",
       "3     -0.221191 -0.169361 -0.228645 -0.237846  ...        0         0   \n",
       "4     -0.221191  1.335034  0.271165  0.266434  ...        0         0   \n",
       "...         ...       ...       ...       ...  ...      ...       ...   \n",
       "29995  0.171250  0.611048 -0.012648 -0.113564  ...        0         0   \n",
       "29996 -0.231032 -0.103955  0.214255 -0.299828  ...        0         0   \n",
       "29997 -0.341942 -0.256990  0.952725 -0.039964  ...        0         0   \n",
       "29998  4.844316 -0.109033 -0.229895 -0.185120  ...        0         1   \n",
       "29999 -0.216481 -0.178866 -0.215582 -0.244230  ...        0         0   \n",
       "\n",
       "       PAY_6_0  PAY_6_2  PAY_6_3  PAY_6_4  PAY_6_5  PAY_6_6  PAY_6_7  PAY_6_8  \n",
       "0            0        0        0        0        0        0        0        0  \n",
       "1            0        1        0        0        0        0        0        0  \n",
       "2            1        0        0        0        0        0        0        0  \n",
       "3            1        0        0        0        0        0        0        0  \n",
       "4            1        0        0        0        0        0        0        0  \n",
       "...        ...      ...      ...      ...      ...      ...      ...      ...  \n",
       "29995        1        0        0        0        0        0        0        0  \n",
       "29996        1        0        0        0        0        0        0        0  \n",
       "29997        1        0        0        0        0        0        0        0  \n",
       "29998        0        0        0        0        0        0        0        0  \n",
       "29999        1        0        0        0        0        0        0        0  \n",
       "\n",
       "[30000 rows x 79 columns]"
      ]
     },
     "execution_count": 16,
     "metadata": {},
     "output_type": "execute_result"
    }
   ],
   "source": [
    "CreditOneNew"
   ]
  },
  {
   "cell_type": "markdown",
   "metadata": {},
   "source": [
    "### Moving Default to the begining of the dataframe "
   ]
  },
  {
   "cell_type": "code",
   "execution_count": 17,
   "metadata": {},
   "outputs": [],
   "source": [
    "# Get the current list of columns names\n",
    "col_names = list(CreditOneNew)\n",
    "col_names.insert(0, col_names.pop(col_names.index('Default')))\n",
    "CreditOneNew = CreditOneNew.loc[:, col_names]"
   ]
  },
  {
   "cell_type": "markdown",
   "metadata": {},
   "source": [
    "### Selecting and Divinding the data\n",
    "Spliting Dataset into training(70%) and test set(30%)"
   ]
  },
  {
   "cell_type": "code",
   "execution_count": 19,
   "metadata": {},
   "outputs": [],
   "source": [
    "X=CreditOneNew.iloc[:,1:79].values\n",
    "y=CreditOneNew.iloc[:,0].values"
   ]
  },
  {
   "cell_type": "code",
   "execution_count": 20,
   "metadata": {},
   "outputs": [],
   "source": [
    "X_train,X_test,y_train,y_test = train_test_split(X,y,test_size = 0.3,random_state = 50)\n"
   ]
  },
  {
   "cell_type": "code",
   "execution_count": 21,
   "metadata": {},
   "outputs": [
    {
     "data": {
      "text/plain": [
       "(21000, 78)"
      ]
     },
     "execution_count": 21,
     "metadata": {},
     "output_type": "execute_result"
    }
   ],
   "source": [
    "X_train.shape"
   ]
  },
  {
   "cell_type": "code",
   "execution_count": 482,
   "metadata": {},
   "outputs": [
    {
     "data": {
      "text/plain": [
       "Index(['BILL_AMT1', 'BILL_AMT2', 'BILL_AMT3', 'BILL_AMT4', 'BILL_AMT5',\n",
       "       'BILL_AMT6', 'PAY_AMT1', 'PAY_AMT2', 'PAY_AMT3', 'PAY_AMT4', 'PAY_AMT5',\n",
       "       'PAY_AMT6', 'Age', 'Limit_Bal', 'SEX_2', 'EDUCATION_2', 'EDUCATION_3',\n",
       "       'EDUCATION_4', 'MARRIAGE_2', 'MARRIAGE_3', 'PAY_0_-1', 'PAY_0_0',\n",
       "       'PAY_0_1', 'PAY_0_2', 'PAY_0_3', 'PAY_0_4', 'PAY_0_5', 'PAY_0_6',\n",
       "       'PAY_0_7', 'PAY_0_8', 'PAY_2_-1', 'PAY_2_0', 'PAY_2_1', 'PAY_2_2',\n",
       "       'PAY_2_3', 'PAY_2_4', 'PAY_2_5', 'PAY_2_6', 'PAY_2_7', 'PAY_2_8',\n",
       "       'PAY_3_-1', 'PAY_3_0', 'PAY_3_1', 'PAY_3_2', 'PAY_3_3', 'PAY_3_4',\n",
       "       'PAY_3_5', 'PAY_3_6', 'PAY_3_7', 'PAY_3_8', 'PAY_4_-1', 'PAY_4_0',\n",
       "       'PAY_4_1', 'PAY_4_2', 'PAY_4_3', 'PAY_4_4', 'PAY_4_5', 'PAY_4_6',\n",
       "       'PAY_4_7', 'PAY_4_8', 'PAY_5_-1', 'PAY_5_0', 'PAY_5_2', 'PAY_5_3',\n",
       "       'PAY_5_4', 'PAY_5_5', 'PAY_5_6', 'PAY_5_7', 'PAY_5_8', 'PAY_6_-1',\n",
       "       'PAY_6_0', 'PAY_6_2', 'PAY_6_3', 'PAY_6_4', 'PAY_6_5', 'PAY_6_6',\n",
       "       'PAY_6_7', 'PAY_6_8'],\n",
       "      dtype='object')"
      ]
     },
     "execution_count": 482,
     "metadata": {},
     "output_type": "execute_result"
    }
   ],
   "source": [
    "columns_ = CreditOneNew.iloc[:,1:79].columns\n"
   ]
  },
  {
   "cell_type": "code",
   "execution_count": 23,
   "metadata": {},
   "outputs": [
    {
     "data": {
      "text/plain": [
       "(9000, 78)"
      ]
     },
     "execution_count": 23,
     "metadata": {},
     "output_type": "execute_result"
    }
   ],
   "source": [
    "X_test.shape"
   ]
  },
  {
   "cell_type": "markdown",
   "metadata": {},
   "source": [
    "### Applying Machine Learning Algorithm for Classification Problem"
   ]
  },
  {
   "cell_type": "markdown",
   "metadata": {},
   "source": [
    "### Baseline Algorithms"
   ]
  },
  {
   "cell_type": "markdown",
   "metadata": {},
   "source": [
    "## Model 1: Decision Tree"
   ]
  },
  {
   "cell_type": "code",
   "execution_count": 179,
   "metadata": {},
   "outputs": [],
   "source": [
    "ModelDT = DecisionTreeClassifier(random_state=50)"
   ]
  },
  {
   "cell_type": "code",
   "execution_count": 180,
   "metadata": {},
   "outputs": [
    {
     "name": "stdout",
     "output_type": "stream",
     "text": [
      "1.14 s ± 64.4 ms per loop (mean ± std. dev. of 5 runs, 1 loop each)\n"
     ]
    }
   ],
   "source": [
    "%%timeit -n 1 -r 5\n",
    "ModelDT.fit(X_train,y_train)"
   ]
  },
  {
   "cell_type": "code",
   "execution_count": 402,
   "metadata": {},
   "outputs": [
    {
     "name": "stdout",
     "output_type": "stream",
     "text": [
      "[0.71742857 0.72357143 0.72385714]\n",
      "Accuracy: 0.7216 (+/- 0.0059)\n"
     ]
    }
   ],
   "source": [
    "print(cross_val_score(ModelDT, X_train, y_train))\n",
    "ScoreDT = cross_val_score(ModelDT, X_train, y_train)\n",
    "print(\"Accuracy: %0.4f (+/- %0.4f)\" % (ScoreDT.mean(), ScoreDT.std() * 2))"
   ]
  },
  {
   "cell_type": "code",
   "execution_count": 185,
   "metadata": {},
   "outputs": [],
   "source": [
    "# save the model to disk\n",
    "filename = 'ModelDT.sav'\n",
    "Pickle_on = open(filename, 'wb')\n",
    "pickle.dump(ModelDT, Pickle_on)\n",
    "Pickle_on.close()"
   ]
  },
  {
   "cell_type": "code",
   "execution_count": 403,
   "metadata": {},
   "outputs": [
    {
     "name": "stdout",
     "output_type": "stream",
     "text": [
      "0.7291111111111112\n"
     ]
    }
   ],
   "source": [
    "# load the model from disk\n",
    "filename = 'ModelDT.sav'\n",
    "Pickle_off = open(filename, 'rb')\n",
    "Pickeled_DT = pickle.load(Pickle_off)\n",
    "Pickle_off.close()\n",
    "result = Pickeled_DT.score(X_test, y_test)\n",
    "print(result)"
   ]
  },
  {
   "cell_type": "code",
   "execution_count": 404,
   "metadata": {},
   "outputs": [],
   "source": [
    "# make class predictions for the testing set\n",
    "DT_Prediction = Pickeled_DT.predict(X_test)"
   ]
  },
  {
   "cell_type": "code",
   "execution_count": 405,
   "metadata": {},
   "outputs": [
    {
     "name": "stdout",
     "output_type": "stream",
     "text": [
      "0.7291111111111112\n",
      "[[5776 1298]\n",
      " [1140  786]]\n",
      "              precision    recall  f1-score   support\n",
      "\n",
      "           0       0.82      0.84      0.83      6916\n",
      "           1       0.41      0.38      0.39      2084\n",
      "\n",
      "    accuracy                           0.73      9000\n",
      "   macro avg       0.61      0.61      0.61      9000\n",
      "weighted avg       0.72      0.73      0.73      9000\n",
      "\n"
     ]
    }
   ],
   "source": [
    "print(metrics.accuracy_score(y_test, DT_Prediction))\n",
    "print(metrics.confusion_matrix(y_test, DT_Prediction))\n",
    "print(metrics.classification_report(DT_Prediction, y_test))"
   ]
  },
  {
   "cell_type": "code",
   "execution_count": 442,
   "metadata": {},
   "outputs": [
    {
     "data": {
      "text/html": [
       "<div>\n",
       "<style scoped>\n",
       "    .dataframe tbody tr th:only-of-type {\n",
       "        vertical-align: middle;\n",
       "    }\n",
       "\n",
       "    .dataframe tbody tr th {\n",
       "        vertical-align: top;\n",
       "    }\n",
       "\n",
       "    .dataframe thead th {\n",
       "        text-align: right;\n",
       "    }\n",
       "</style>\n",
       "<table border=\"1\" class=\"dataframe\">\n",
       "  <thead>\n",
       "    <tr style=\"text-align: right;\">\n",
       "      <th></th>\n",
       "      <th>Model</th>\n",
       "      <th>Train Accuracy</th>\n",
       "      <th>Test Accuracy</th>\n",
       "      <th>Precision</th>\n",
       "      <th>Recall</th>\n",
       "      <th>F1 Score</th>\n",
       "      <th>ROC</th>\n",
       "    </tr>\n",
       "  </thead>\n",
       "  <tbody>\n",
       "    <tr>\n",
       "      <td>0</td>\n",
       "      <td>DECISION TREE</td>\n",
       "      <td>0.721619</td>\n",
       "      <td>0.729111</td>\n",
       "      <td>0.377159</td>\n",
       "      <td>0.4081</td>\n",
       "      <td>0.39202</td>\n",
       "      <td>0.612305</td>\n",
       "    </tr>\n",
       "  </tbody>\n",
       "</table>\n",
       "</div>"
      ],
      "text/plain": [
       "           Model  Train Accuracy  Test Accuracy  Precision  Recall  F1 Score  \\\n",
       "0  DECISION TREE        0.721619       0.729111   0.377159  0.4081   0.39202   \n",
       "\n",
       "        ROC  \n",
       "0  0.612305  "
      ]
     },
     "execution_count": 442,
     "metadata": {},
     "output_type": "execute_result"
    }
   ],
   "source": [
    "Mean_Scores  = ScoreDT.mean()\n",
    "roc=roc_auc_score(y_test, DT_Prediction)\n",
    "acc = accuracy_score(y_test, DT_Prediction)\n",
    "prec = precision_score(y_test, DT_Prediction)\n",
    "rec = recall_score(y_test, DT_Prediction)\n",
    "f1 = f1_score(y_test, DT_Prediction)\n",
    "\n",
    "DT_result= pd.DataFrame([['DECISION TREE', Mean_Scores,acc,prec,rec, f1,roc]],\n",
    "               columns = ['Model', 'Train Accuracy','Test Accuracy', 'Precision', 'Recall', 'F1 Score','ROC'])\n",
    "\n",
    "model_results = model_results.append(DT_result, ignore_index = True)\n",
    "DT_result"
   ]
  },
  {
   "cell_type": "markdown",
   "metadata": {},
   "source": [
    "## Model 2: Random Forest "
   ]
  },
  {
   "cell_type": "code",
   "execution_count": 25,
   "metadata": {},
   "outputs": [],
   "source": [
    "ModelRf = RandomForestClassifier(random_state = 50)"
   ]
  },
  {
   "cell_type": "code",
   "execution_count": 27,
   "metadata": {},
   "outputs": [
    {
     "name": "stdout",
     "output_type": "stream",
     "text": [
      "946 ms ± 22.5 ms per loop (mean ± std. dev. of 5 runs, 1 loop each)\n"
     ]
    }
   ],
   "source": [
    "%%timeit -n 1 -r 5\n",
    "ModelRf.fit(X_train,y_train)"
   ]
  },
  {
   "cell_type": "code",
   "execution_count": 400,
   "metadata": {},
   "outputs": [
    {
     "name": "stdout",
     "output_type": "stream",
     "text": [
      "[0.79928571 0.80314286 0.809     ]\n",
      "Accuracy: 0.80381 (+/- 0.01)\n"
     ]
    }
   ],
   "source": [
    "print(cross_val_score(ModelRf, X_train, y_train))\n",
    "ScoreRF  = cross_val_score(ModelRf, X_train, y_train)\n",
    "print(\"Accuracy: %0.5f (+/- %0.2f)\" % (ScoreRF.mean(), ScoreRF.std() * 2))\n"
   ]
  },
  {
   "cell_type": "code",
   "execution_count": 37,
   "metadata": {},
   "outputs": [],
   "source": [
    "# save the model to disk\n",
    "filename = 'ModelRf.sav'\n",
    "Pickle_on = open(filename, 'wb')\n",
    "pickle.dump(ModelRf, Pickle_on)\n",
    "pickle_on.close()\n"
   ]
  },
  {
   "cell_type": "code",
   "execution_count": 188,
   "metadata": {},
   "outputs": [
    {
     "name": "stdout",
     "output_type": "stream",
     "text": [
      "0.8081111111111111\n"
     ]
    }
   ],
   "source": [
    "# load the model from disk\n",
    "filename = 'ModelRf.sav'\n",
    "Pickle_off = open(filename, 'rb')\n",
    "Pickeled_RF = pickle.load(Pickle_off)\n",
    "Pickle_off.close()\n",
    "result = Pickeled_RF.score(X_test, y_test)\n",
    "print(result)"
   ]
  },
  {
   "cell_type": "code",
   "execution_count": 190,
   "metadata": {},
   "outputs": [],
   "source": [
    "# make class predictions for the testing set\n",
    "RF_Prediction = Pickeled_RF.predict(X_test)"
   ]
  },
  {
   "cell_type": "code",
   "execution_count": 73,
   "metadata": {},
   "outputs": [
    {
     "name": "stdout",
     "output_type": "stream",
     "text": [
      "0.8081111111111111\n",
      "[[6641  433]\n",
      " [1294  632]]\n",
      "              precision    recall  f1-score   support\n",
      "\n",
      "           0       0.94      0.84      0.88      7935\n",
      "           1       0.33      0.59      0.42      1065\n",
      "\n",
      "    accuracy                           0.81      9000\n",
      "   macro avg       0.63      0.72      0.65      9000\n",
      "weighted avg       0.87      0.81      0.83      9000\n",
      "\n"
     ]
    }
   ],
   "source": [
    "print(metrics.accuracy_score(y_test, RF_Prediction))\n",
    "print(metrics.confusion_matrix(y_test, RF_Prediction))\n",
    "print(metrics.classification_report(RF_Prediction, y_test))"
   ]
  },
  {
   "cell_type": "code",
   "execution_count": 441,
   "metadata": {},
   "outputs": [
    {
     "data": {
      "text/html": [
       "<div>\n",
       "<style scoped>\n",
       "    .dataframe tbody tr th:only-of-type {\n",
       "        vertical-align: middle;\n",
       "    }\n",
       "\n",
       "    .dataframe tbody tr th {\n",
       "        vertical-align: top;\n",
       "    }\n",
       "\n",
       "    .dataframe thead th {\n",
       "        text-align: right;\n",
       "    }\n",
       "</style>\n",
       "<table border=\"1\" class=\"dataframe\">\n",
       "  <thead>\n",
       "    <tr style=\"text-align: right;\">\n",
       "      <th></th>\n",
       "      <th>Model</th>\n",
       "      <th>Train Accuracy</th>\n",
       "      <th>Test Accuracy</th>\n",
       "      <th>Precision</th>\n",
       "      <th>Recall</th>\n",
       "      <th>F1 Score</th>\n",
       "      <th>ROC</th>\n",
       "    </tr>\n",
       "  </thead>\n",
       "  <tbody>\n",
       "    <tr>\n",
       "      <td>0</td>\n",
       "      <td>RANDOM FOREST</td>\n",
       "      <td>0.80381</td>\n",
       "      <td>0.808111</td>\n",
       "      <td>0.593427</td>\n",
       "      <td>0.328141</td>\n",
       "      <td>0.422601</td>\n",
       "      <td>0.633466</td>\n",
       "    </tr>\n",
       "  </tbody>\n",
       "</table>\n",
       "</div>"
      ],
      "text/plain": [
       "           Model  Train Accuracy  Test Accuracy  Precision    Recall  \\\n",
       "0  RANDOM FOREST         0.80381       0.808111   0.593427  0.328141   \n",
       "\n",
       "   F1 Score       ROC  \n",
       "0  0.422601  0.633466  "
      ]
     },
     "execution_count": 441,
     "metadata": {},
     "output_type": "execute_result"
    }
   ],
   "source": [
    "Mean_scores = ScoreRF.mean()\n",
    "roc=roc_auc_score(y_test, RF_Prediction)\n",
    "acc = accuracy_score(y_test, RF_Prediction)\n",
    "prec = precision_score(y_test, RF_Prediction)\n",
    "rec = recall_score(y_test, RF_Prediction)\n",
    "f1 = f1_score(y_test, RF_Prediction)\n",
    "\n",
    "model_results= pd.DataFrame([['RANDOM FOREST',Mean_scores,acc,prec,rec, f1,roc]],\n",
    "               columns = ['Model', 'Train Accuracy','Test Accuracy', 'Precision', 'Recall', 'F1 Score','ROC'])\n",
    "\n",
    "model_results"
   ]
  },
  {
   "cell_type": "markdown",
   "metadata": {},
   "source": [
    "## Model 3: Support Vector Machine"
   ]
  },
  {
   "cell_type": "code",
   "execution_count": 274,
   "metadata": {},
   "outputs": [],
   "source": [
    "ModelSVM= SVC(kernel = 'linear',probability= True, random_state = 50)"
   ]
  },
  {
   "cell_type": "code",
   "execution_count": 275,
   "metadata": {},
   "outputs": [
    {
     "name": "stdout",
     "output_type": "stream",
     "text": [
      "5min 25s ± 49.2 s per loop (mean ± std. dev. of 5 runs, 1 loop each)\n"
     ]
    }
   ],
   "source": [
    "%%timeit -n 1 -r 5\n",
    "ModelSVM.fit(X_train,y_train)"
   ]
  },
  {
   "cell_type": "code",
   "execution_count": 407,
   "metadata": {},
   "outputs": [
    {
     "name": "stdout",
     "output_type": "stream",
     "text": [
      "[0.818      0.81485714 0.81757143]\n",
      "Accuracy: 0.81681 (+/- 0.00278)\n"
     ]
    }
   ],
   "source": [
    "print(cross_val_score(ModelSVM, X_train, y_train))\n",
    "ScoreSVM  = cross_val_score(ModelSVM, X_train, y_train)\n",
    "print(\"Accuracy: %0.5f (+/- %0.5f)\" % (ScoreSVM.mean(), ScoreSVM.std() * 2))\n"
   ]
  },
  {
   "cell_type": "code",
   "execution_count": 277,
   "metadata": {},
   "outputs": [],
   "source": [
    "# save the model to disk\n",
    "filename = 'ModelSVM.sav'\n",
    "Pickle_on = open(filename, 'wb')\n",
    "\n",
    "pickle.dump(ModelSVM, Pickle_on)\n",
    "Pickle_on.close()\n"
   ]
  },
  {
   "cell_type": "code",
   "execution_count": 408,
   "metadata": {},
   "outputs": [
    {
     "name": "stdout",
     "output_type": "stream",
     "text": [
      "0.8251111111111111\n"
     ]
    }
   ],
   "source": [
    "# load the model from disk\n",
    "filename = 'ModelSVM.sav'\n",
    "Pickle_off = open(filename, 'rb')\n",
    "Pickeled_SVM = pickle.load(Pickle_off)\n",
    "Pickle_off.close()\n",
    "result = Pickeled_SVM.score(X_test, y_test)\n",
    "print(result)"
   ]
  },
  {
   "cell_type": "code",
   "execution_count": 409,
   "metadata": {},
   "outputs": [],
   "source": [
    "SVM_Prediction = Pickeled_SVM.predict(X_test)"
   ]
  },
  {
   "cell_type": "code",
   "execution_count": 410,
   "metadata": {},
   "outputs": [
    {
     "name": "stdout",
     "output_type": "stream",
     "text": [
      "0.8251111111111111\n",
      "[[6793  281]\n",
      " [1293  633]]\n",
      "              precision    recall  f1-score   support\n",
      "\n",
      "           0       0.96      0.84      0.90      8086\n",
      "           1       0.33      0.69      0.45       914\n",
      "\n",
      "    accuracy                           0.83      9000\n",
      "   macro avg       0.64      0.77      0.67      9000\n",
      "weighted avg       0.90      0.83      0.85      9000\n",
      "\n"
     ]
    }
   ],
   "source": [
    "print(metrics.accuracy_score(y_test, SVM_Prediction))\n",
    "print(metrics.confusion_matrix(y_test, SVM_Prediction))\n",
    "print(metrics.classification_report(SVM_Prediction, y_test))"
   ]
  },
  {
   "cell_type": "code",
   "execution_count": 443,
   "metadata": {},
   "outputs": [
    {
     "data": {
      "text/html": [
       "<div>\n",
       "<style scoped>\n",
       "    .dataframe tbody tr th:only-of-type {\n",
       "        vertical-align: middle;\n",
       "    }\n",
       "\n",
       "    .dataframe tbody tr th {\n",
       "        vertical-align: top;\n",
       "    }\n",
       "\n",
       "    .dataframe thead th {\n",
       "        text-align: right;\n",
       "    }\n",
       "</style>\n",
       "<table border=\"1\" class=\"dataframe\">\n",
       "  <thead>\n",
       "    <tr style=\"text-align: right;\">\n",
       "      <th></th>\n",
       "      <th>Model</th>\n",
       "      <th>Train Accuracy</th>\n",
       "      <th>Test Accuracy</th>\n",
       "      <th>Precision</th>\n",
       "      <th>Recall</th>\n",
       "      <th>F1 Score</th>\n",
       "      <th>ROC</th>\n",
       "    </tr>\n",
       "  </thead>\n",
       "  <tbody>\n",
       "    <tr>\n",
       "      <td>0</td>\n",
       "      <td>SUPPORT VECTOR MACHINE</td>\n",
       "      <td>0.81681</td>\n",
       "      <td>0.825111</td>\n",
       "      <td>0.69256</td>\n",
       "      <td>0.32866</td>\n",
       "      <td>0.445775</td>\n",
       "      <td>0.644469</td>\n",
       "    </tr>\n",
       "  </tbody>\n",
       "</table>\n",
       "</div>"
      ],
      "text/plain": [
       "                    Model  Train Accuracy  Test Accuracy  Precision   Recall  \\\n",
       "0  SUPPORT VECTOR MACHINE         0.81681       0.825111    0.69256  0.32866   \n",
       "\n",
       "   F1 Score       ROC  \n",
       "0  0.445775  0.644469  "
      ]
     },
     "execution_count": 443,
     "metadata": {},
     "output_type": "execute_result"
    }
   ],
   "source": [
    "Mean_scores = ScoreSVM.mean()\n",
    "roc=roc_auc_score(y_test, SVM_Prediction)\n",
    "acc = accuracy_score(y_test, SVM_Prediction)\n",
    "prec = precision_score(y_test, SVM_Prediction)\n",
    "rec = recall_score(y_test, SVM_Prediction)\n",
    "f1 = f1_score(y_test, SVM_Prediction)\n",
    "\n",
    "SVM_result = pd.DataFrame([['SUPPORT VECTOR MACHINE',Mean_scores, acc,prec,rec, f1,roc]],\n",
    "               columns = ['Model', 'Train Accuracy','Test Accuracy', 'Precision', 'Recall', 'F1 Score','ROC'])\n",
    "model_results = model_results.append(SVM_result, ignore_index = True)\n",
    "SVM_result"
   ]
  },
  {
   "cell_type": "markdown",
   "metadata": {},
   "source": [
    "## Model 4: K-Nearest Neighbor "
   ]
  },
  {
   "cell_type": "code",
   "execution_count": 238,
   "metadata": {},
   "outputs": [],
   "source": [
    "ModelKNN = KNeighborsClassifier()"
   ]
  },
  {
   "cell_type": "code",
   "execution_count": 120,
   "metadata": {},
   "outputs": [
    {
     "name": "stdout",
     "output_type": "stream",
     "text": [
      "212 ms ± 25.8 ms per loop (mean ± std. dev. of 5 runs, 1 loop each)\n"
     ]
    }
   ],
   "source": [
    "%%timeit -n 1 -r 5\n",
    "ModelKNN.fit(X_train,y_train)"
   ]
  },
  {
   "cell_type": "code",
   "execution_count": 417,
   "metadata": {},
   "outputs": [
    {
     "name": "stdout",
     "output_type": "stream",
     "text": [
      "[0.79228571 0.78714286 0.79514286]\n",
      "Accuracy: 0.79152 (+/- 0.00662)\n"
     ]
    }
   ],
   "source": [
    "print(cross_val_score(ModelKNN, X_train, y_train))\n",
    "ScoreKNN  = cross_val_score(ModelKNN, X_train, y_train)\n",
    "print(\"Accuracy: %0.5f (+/- %0.5f)\" % (ScoreKNN.mean(), ScoreKNN.std() * 2))\n"
   ]
  },
  {
   "cell_type": "code",
   "execution_count": 122,
   "metadata": {},
   "outputs": [
    {
     "name": "stdout",
     "output_type": "stream",
     "text": [
      "0.7995555555555556\n"
     ]
    }
   ],
   "source": [
    "# save the model to disk\n",
    "filename = 'ModelKNN.sav'\n",
    "Pickle_on = open(filename, 'wb')\n",
    "pickle.dump(ModelKNN, Pickle_on)\n",
    "Pickle_on.close()"
   ]
  },
  {
   "cell_type": "code",
   "execution_count": 418,
   "metadata": {},
   "outputs": [
    {
     "name": "stdout",
     "output_type": "stream",
     "text": [
      "0.7995555555555556\n"
     ]
    }
   ],
   "source": [
    "# load the model from disk\n",
    "filename = 'ModelKNN.sav'\n",
    "Pickle_off = open(filename, 'rb')\n",
    "Pickeled_KNN = pickle.load(Pickle_off)\n",
    "Pickeled_KNN\n",
    "result = Pickeled_KNN.score(X_test, y_test)\n",
    "print(result)"
   ]
  },
  {
   "cell_type": "code",
   "execution_count": 419,
   "metadata": {},
   "outputs": [],
   "source": [
    "KNN_Prediction = Pickeled_KNN.predict(X_test)"
   ]
  },
  {
   "cell_type": "code",
   "execution_count": 420,
   "metadata": {},
   "outputs": [
    {
     "name": "stdout",
     "output_type": "stream",
     "text": [
      "0.7995555555555556\n",
      "[[6512  562]\n",
      " [1242  684]]\n",
      "              precision    recall  f1-score   support\n",
      "\n",
      "           0       0.92      0.84      0.88      7754\n",
      "           1       0.36      0.55      0.43      1246\n",
      "\n",
      "    accuracy                           0.80      9000\n",
      "   macro avg       0.64      0.69      0.65      9000\n",
      "weighted avg       0.84      0.80      0.82      9000\n",
      "\n"
     ]
    }
   ],
   "source": [
    "print(metrics.accuracy_score(y_test, KNN_Prediction))\n",
    "print(metrics.confusion_matrix(y_test, KNN_Prediction))\n",
    "print(metrics.classification_report(KNN_Prediction, y_test))"
   ]
  },
  {
   "cell_type": "code",
   "execution_count": 444,
   "metadata": {},
   "outputs": [
    {
     "data": {
      "text/html": [
       "<div>\n",
       "<style scoped>\n",
       "    .dataframe tbody tr th:only-of-type {\n",
       "        vertical-align: middle;\n",
       "    }\n",
       "\n",
       "    .dataframe tbody tr th {\n",
       "        vertical-align: top;\n",
       "    }\n",
       "\n",
       "    .dataframe thead th {\n",
       "        text-align: right;\n",
       "    }\n",
       "</style>\n",
       "<table border=\"1\" class=\"dataframe\">\n",
       "  <thead>\n",
       "    <tr style=\"text-align: right;\">\n",
       "      <th></th>\n",
       "      <th>Model</th>\n",
       "      <th>Train Accuracy</th>\n",
       "      <th>Test Accuracy</th>\n",
       "      <th>Precision</th>\n",
       "      <th>Recall</th>\n",
       "      <th>F1 Score</th>\n",
       "      <th>ROC</th>\n",
       "    </tr>\n",
       "  </thead>\n",
       "  <tbody>\n",
       "    <tr>\n",
       "      <td>0</td>\n",
       "      <td>k-NEAREST NEIGHBOR</td>\n",
       "      <td>0.791524</td>\n",
       "      <td>0.799556</td>\n",
       "      <td>0.548957</td>\n",
       "      <td>0.35514</td>\n",
       "      <td>0.431274</td>\n",
       "      <td>0.637847</td>\n",
       "    </tr>\n",
       "  </tbody>\n",
       "</table>\n",
       "</div>"
      ],
      "text/plain": [
       "                Model  Train Accuracy  Test Accuracy  Precision   Recall  \\\n",
       "0  k-NEAREST NEIGHBOR        0.791524       0.799556   0.548957  0.35514   \n",
       "\n",
       "   F1 Score       ROC  \n",
       "0  0.431274  0.637847  "
      ]
     },
     "execution_count": 444,
     "metadata": {},
     "output_type": "execute_result"
    }
   ],
   "source": [
    "Mean_score = ScoreKNN.mean()\n",
    "roc=roc_auc_score(y_test, KNN_Prediction)\n",
    "acc = accuracy_score(y_test, KNN_Prediction)\n",
    "prec = precision_score(y_test, KNN_Prediction)\n",
    "rec = recall_score(y_test, KNN_Prediction)\n",
    "f1 = f1_score(y_test, KNN_Prediction)\n",
    "KNN_result= pd.DataFrame([['k-NEAREST NEIGHBOR', Mean_score,acc,prec,rec, f1,roc]],\n",
    "               columns = ['Model', 'Train Accuracy','Test Accuracy', 'Precision', 'Recall', 'F1 Score','ROC'])\n",
    "model_results = model_results.append(KNN_result, ignore_index = True)\n",
    "KNN_result\n"
   ]
  },
  {
   "cell_type": "markdown",
   "metadata": {},
   "source": [
    "## Model 5: Gradient Boosted Model"
   ]
  },
  {
   "cell_type": "code",
   "execution_count": 296,
   "metadata": {},
   "outputs": [],
   "source": [
    "from sklearn.ensemble import GradientBoostingClassifier\n",
    "ModelGB= GradientBoostingClassifier(random_state=50)\n"
   ]
  },
  {
   "cell_type": "code",
   "execution_count": 297,
   "metadata": {},
   "outputs": [
    {
     "name": "stdout",
     "output_type": "stream",
     "text": [
      "15.6 s ± 2.08 s per loop (mean ± std. dev. of 5 runs, 1 loop each)\n"
     ]
    }
   ],
   "source": [
    "%%timeit -n 1 -r 5\n",
    "ModelGB.fit(X_train,y_train)"
   ]
  },
  {
   "cell_type": "code",
   "execution_count": 333,
   "metadata": {},
   "outputs": [
    {
     "name": "stdout",
     "output_type": "stream",
     "text": [
      "[0.81728571 0.81571429 0.81771429]\n",
      "Accuracy: 0.81690 (+/- 0.00172)\n"
     ]
    }
   ],
   "source": [
    "print(cross_val_score(Pickeled_GB, X_train, y_train))\n"
   ]
  },
  {
   "cell_type": "code",
   "execution_count": 503,
   "metadata": {},
   "outputs": [
    {
     "data": {
      "text/plain": [
       "GradientBoostingClassifier(criterion='friedman_mse', init=None,\n",
       "                           learning_rate=0.1, loss='deviance', max_depth=3,\n",
       "                           max_features=None, max_leaf_nodes=None,\n",
       "                           min_impurity_decrease=0.0, min_impurity_split=None,\n",
       "                           min_samples_leaf=1, min_samples_split=2,\n",
       "                           min_weight_fraction_leaf=0.0, n_estimators=100,\n",
       "                           n_iter_no_change=None, presort='auto',\n",
       "                           random_state=50, subsample=1.0, tol=0.0001,\n",
       "                           validation_fraction=0.1, verbose=0,\n",
       "                           warm_start=False)"
      ]
     },
     "execution_count": 503,
     "metadata": {},
     "output_type": "execute_result"
    }
   ],
   "source": [
    "Pickeled_GB"
   ]
  },
  {
   "cell_type": "code",
   "execution_count": 423,
   "metadata": {},
   "outputs": [
    {
     "name": "stdout",
     "output_type": "stream",
     "text": [
      "Accuracy: 0.81690 (+/- 0.00172)\n"
     ]
    }
   ],
   "source": [
    "ScoreGB  = cross_val_score(Pickeled_GB, X_train, y_train)\n",
    "print(\"Accuracy: %0.5f (+/- %0.5f)\" % (ScoreGB.mean(), ScoreGB.std() * 2))"
   ]
  },
  {
   "cell_type": "code",
   "execution_count": null,
   "metadata": {},
   "outputs": [],
   "source": [
    "# save the model to disk\n",
    "filename = 'ModelGB.sav'\n",
    "Pickle_on = open(filename, 'wb')\n",
    "pickle.dump(ModelGB, Pickle_on)\n",
    "Pickle_on.close()"
   ]
  },
  {
   "cell_type": "code",
   "execution_count": 424,
   "metadata": {},
   "outputs": [
    {
     "name": "stdout",
     "output_type": "stream",
     "text": [
      "0.8256666666666667\n"
     ]
    }
   ],
   "source": [
    "# load the model from disk\n",
    "filename = 'ModelGB.sav'\n",
    "Pickle_off = open(filename, 'rb')\n",
    "Pickeled_GB = pickle.load(Pickle_off)\n",
    "Pickle_off.close()\n",
    "result = Pickeled_GB.score(X_test, y_test)\n",
    "print(result)"
   ]
  },
  {
   "cell_type": "code",
   "execution_count": 425,
   "metadata": {},
   "outputs": [],
   "source": [
    "GB_Prediction = Pickeled_GB.predict(X_test)"
   ]
  },
  {
   "cell_type": "code",
   "execution_count": 426,
   "metadata": {},
   "outputs": [
    {
     "name": "stdout",
     "output_type": "stream",
     "text": [
      "0.8256666666666667\n",
      "[[6723  351]\n",
      " [1218  708]]\n",
      "              precision    recall  f1-score   support\n",
      "\n",
      "           0       0.95      0.85      0.90      7941\n",
      "           1       0.37      0.67      0.47      1059\n",
      "\n",
      "    accuracy                           0.83      9000\n",
      "   macro avg       0.66      0.76      0.68      9000\n",
      "weighted avg       0.88      0.83      0.85      9000\n",
      "\n"
     ]
    }
   ],
   "source": [
    "print(metrics.accuracy_score(y_test, GB_Prediction))\n",
    "print(metrics.confusion_matrix(y_test, GB_Prediction))\n",
    "print(metrics.classification_report(GB_Prediction, y_test))"
   ]
  },
  {
   "cell_type": "code",
   "execution_count": 445,
   "metadata": {},
   "outputs": [
    {
     "data": {
      "text/html": [
       "<div>\n",
       "<style scoped>\n",
       "    .dataframe tbody tr th:only-of-type {\n",
       "        vertical-align: middle;\n",
       "    }\n",
       "\n",
       "    .dataframe tbody tr th {\n",
       "        vertical-align: top;\n",
       "    }\n",
       "\n",
       "    .dataframe thead th {\n",
       "        text-align: right;\n",
       "    }\n",
       "</style>\n",
       "<table border=\"1\" class=\"dataframe\">\n",
       "  <thead>\n",
       "    <tr style=\"text-align: right;\">\n",
       "      <th></th>\n",
       "      <th>Model</th>\n",
       "      <th>Train Accuracy</th>\n",
       "      <th>Test Accuracy</th>\n",
       "      <th>Precision</th>\n",
       "      <th>Recall</th>\n",
       "      <th>F1 Score</th>\n",
       "      <th>ROC</th>\n",
       "    </tr>\n",
       "  </thead>\n",
       "  <tbody>\n",
       "    <tr>\n",
       "      <td>0</td>\n",
       "      <td>Gradient Boosted Model</td>\n",
       "      <td>0.816905</td>\n",
       "      <td>0.825667</td>\n",
       "      <td>0.668555</td>\n",
       "      <td>0.367601</td>\n",
       "      <td>0.431274</td>\n",
       "      <td>0.658991</td>\n",
       "    </tr>\n",
       "  </tbody>\n",
       "</table>\n",
       "</div>"
      ],
      "text/plain": [
       "                    Model  Train Accuracy  Test Accuracy  Precision    Recall  \\\n",
       "0  Gradient Boosted Model        0.816905       0.825667   0.668555  0.367601   \n",
       "\n",
       "   F1 Score       ROC  \n",
       "0  0.431274  0.658991  "
      ]
     },
     "execution_count": 445,
     "metadata": {},
     "output_type": "execute_result"
    }
   ],
   "source": [
    "Mean_score = ScoreGB.mean()\n",
    "roc=roc_auc_score(y_test, GB_Prediction)\n",
    "acc = accuracy_score(y_test, GB_Prediction)\n",
    "prec = precision_score(y_test, GB_Prediction)\n",
    "rec = recall_score(y_test, GB_Prediction)\n",
    "f1 = f1_score(y_test, KNN_Prediction)\n",
    "GB_result= pd.DataFrame([['Gradient Boosted Model', Mean_score,acc,prec,rec, f1,roc]],\n",
    "               columns = ['Model', 'Train Accuracy','Test Accuracy', 'Precision', 'Recall', 'F1 Score','ROC'])\n",
    "model_results = model_results.append(GB_result, ignore_index = True)\n",
    "GB_result\n"
   ]
  },
  {
   "cell_type": "markdown",
   "metadata": {},
   "source": [
    "### Feature Importance of GBM model \n",
    "    From the above results dataframe we can see that GBM(81.6%) performed better than the other 4 models "
   ]
  },
  {
   "cell_type": "code",
   "execution_count": 470,
   "metadata": {},
   "outputs": [
    {
     "data": {
      "image/png": "[encoded data removed]",
      "text/plain": [
       "<Figure size 432x288 with 1 Axes>"
      ]
     },
     "metadata": {},
     "output_type": "display_data"
    },
    {
     "data": {
      "text/plain": [
       "<Figure size 1440x1440 with 0 Axes>"
      ]
     },
     "metadata": {},
     "output_type": "display_data"
    }
   ],
   "source": [
    "feature_importances = pd.Series(Pickeled_GB.feature_importances_,index = columns_)\n",
    "feature_importances.nlargest(10).plot(kind='barh',color = ['blue'])\n",
    "plt.figure(figsize = (20,20))\n",
    "plt.show()"
   ]
  },
  {
   "cell_type": "markdown",
   "metadata": {},
   "source": [
    "### Recursive Feature Elimination"
   ]
  },
  {
   "cell_type": "code",
   "execution_count": 354,
   "metadata": {},
   "outputs": [
    {
     "name": "stdout",
     "output_type": "stream",
     "text": [
      "[ True  True False  True False False  True  True  True False False False\n",
      " False False False False False False False False False False False  True\n",
      " False False False False False False False False False  True False False\n",
      " False False False False False False False  True False False False False\n",
      " False False False False False False False False False False False False\n",
      " False False  True False False False False False False False False False\n",
      " False False False False False False]\n",
      "[ 1  1 10  1 11 12  1  1  1  6  8  9 14  3 20 23 45 15 24 61 26 17 16  1\n",
      "  2 18 37 31 55 59 62 44 66  1  7 28 63 21 69 68 25 39 60  1 22 33 47 35\n",
      " 54 48 49 29 40  5 41 36 65 53 51 64 50 27  1 32 30 38 52 42 56 34 43  4\n",
      " 13 57 58 19 67 46]\n"
     ]
    }
   ],
   "source": [
    "from sklearn.feature_selection import RFE\n",
    "#clf = SVC(kernel = 'rbf',random_state = 50)\n",
    "# create the RFE model for the GBM classifier \n",
    "# and select attributes\n",
    "rfe = RFE(ModelGB, 10)\n",
    "rfe = rfe.fit(X_train, y_train)\n",
    "# print summaries for the selection of attributes\n",
    "print(rfe.support_)\n",
    "print(rfe.ranking_)"
   ]
  },
  {
   "cell_type": "code",
   "execution_count": 337,
   "metadata": {},
   "outputs": [
    {
     "name": "stdout",
     "output_type": "stream",
     "text": [
      "[0.81357143 0.812      0.81571429]\n",
      "Accuracy: 0.81376 (+/- 0.00304)\n"
     ]
    }
   ],
   "source": [
    "print(cross_val_score(rfe, X_train, y_train))\n"
   ]
  },
  {
   "cell_type": "code",
   "execution_count": 428,
   "metadata": {},
   "outputs": [
    {
     "name": "stdout",
     "output_type": "stream",
     "text": [
      "Accuracy: 0.81376 (+/- 0.00304)\n"
     ]
    }
   ],
   "source": [
    "ScoreRFE  = cross_val_score(Pickeled_rfe, X_train, y_train)\n",
    "print(\"Accuracy: %0.5f (+/- %0.5f)\" % (ScoreRFE.mean(), ScoreRFE.std() * 2))"
   ]
  },
  {
   "cell_type": "code",
   "execution_count": null,
   "metadata": {},
   "outputs": [],
   "source": [
    "# save the model to disk\n",
    "filename = 'rfe.sav'\n",
    "Pickle_on = open(filename, 'wb')\n",
    "pickle.dump(rfe, Pickle_on)\n",
    "Pickle_on.close()"
   ]
  },
  {
   "cell_type": "code",
   "execution_count": 429,
   "metadata": {},
   "outputs": [
    {
     "name": "stdout",
     "output_type": "stream",
     "text": [
      "0.8234444444444444\n"
     ]
    }
   ],
   "source": [
    "# load the model from disk\n",
    "filename = 'rfe.sav'\n",
    "Pickle_off = open(filename, 'rb')\n",
    "Pickeled_rfe = pickle.load(Pickle_off)\n",
    "Pickle_off.close()\n",
    "result = Pickeled_rfe.score(X_test, y_test)\n",
    "print(result)"
   ]
  },
  {
   "cell_type": "code",
   "execution_count": 84,
   "metadata": {},
   "outputs": [],
   "source": [
    "RFE_Prediction = Pickeled_rfe.predict(X_test)"
   ]
  },
  {
   "cell_type": "code",
   "execution_count": 430,
   "metadata": {},
   "outputs": [
    {
     "name": "stdout",
     "output_type": "stream",
     "text": [
      "0.8234444444444444\n",
      "[[6729  345]\n",
      " [1244  682]]\n",
      "              precision    recall  f1-score   support\n",
      "\n",
      "           0       0.95      0.84      0.89      7973\n",
      "           1       0.35      0.66      0.46      1027\n",
      "\n",
      "    accuracy                           0.82      9000\n",
      "   macro avg       0.65      0.75      0.68      9000\n",
      "weighted avg       0.88      0.82      0.85      9000\n",
      "\n"
     ]
    }
   ],
   "source": [
    "print(metrics.accuracy_score(y_test, RFE_Prediction))\n",
    "print(metrics.confusion_matrix(y_test, RFE_Prediction))\n",
    "print(metrics.classification_report(RFE_Prediction, y_test))"
   ]
  },
  {
   "cell_type": "code",
   "execution_count": 484,
   "metadata": {},
   "outputs": [
    {
     "name": "stdout",
     "output_type": "stream",
     "text": [
      "Most important features (RFE): Index(['BILL_AMT1', 'BILL_AMT2', 'BILL_AMT4', 'PAY_AMT1', 'PAY_AMT2',\n",
      "       'PAY_AMT3', 'PAY_0_2', 'PAY_2_2', 'PAY_3_2', 'PAY_5_2'],\n",
      "      dtype='object')\n"
     ]
    }
   ],
   "source": [
    "Feature_imp = columns_\n",
    "Feature_imp\n",
    "print('Most important features (RFE): %s'% Feature_imp[Pickeled_rfe.support_])"
   ]
  },
  {
   "cell_type": "markdown",
   "metadata": {},
   "source": [
    "#### Above are the 10 most important features"
   ]
  },
  {
   "cell_type": "code",
   "execution_count": 446,
   "metadata": {},
   "outputs": [
    {
     "data": {
      "text/html": [
       "<div>\n",
       "<style scoped>\n",
       "    .dataframe tbody tr th:only-of-type {\n",
       "        vertical-align: middle;\n",
       "    }\n",
       "\n",
       "    .dataframe tbody tr th {\n",
       "        vertical-align: top;\n",
       "    }\n",
       "\n",
       "    .dataframe thead th {\n",
       "        text-align: right;\n",
       "    }\n",
       "</style>\n",
       "<table border=\"1\" class=\"dataframe\">\n",
       "  <thead>\n",
       "    <tr style=\"text-align: right;\">\n",
       "      <th></th>\n",
       "      <th>Model</th>\n",
       "      <th>Train Accuracy</th>\n",
       "      <th>Test Accuracy</th>\n",
       "      <th>Precision</th>\n",
       "      <th>Recall</th>\n",
       "      <th>F1 Score</th>\n",
       "      <th>ROC</th>\n",
       "    </tr>\n",
       "  </thead>\n",
       "  <tbody>\n",
       "    <tr>\n",
       "      <td>0</td>\n",
       "      <td>Recursive Feature Elimination-GBM</td>\n",
       "      <td>0.813762</td>\n",
       "      <td>0.823444</td>\n",
       "      <td>0.66407</td>\n",
       "      <td>0.354102</td>\n",
       "      <td>0.461903</td>\n",
       "      <td>0.652666</td>\n",
       "    </tr>\n",
       "  </tbody>\n",
       "</table>\n",
       "</div>"
      ],
      "text/plain": [
       "                               Model  Train Accuracy  Test Accuracy  \\\n",
       "0  Recursive Feature Elimination-GBM        0.813762       0.823444   \n",
       "\n",
       "   Precision    Recall  F1 Score       ROC  \n",
       "0    0.66407  0.354102  0.461903  0.652666  "
      ]
     },
     "execution_count": 446,
     "metadata": {},
     "output_type": "execute_result"
    }
   ],
   "source": [
    "Mean_score = ScoreRFE.mean()\n",
    "roc=roc_auc_score(y_test, RFE_Prediction)\n",
    "acc = accuracy_score(y_test, RFE_Prediction)\n",
    "prec = precision_score(y_test, RFE_Prediction)\n",
    "rec = recall_score(y_test, RFE_Prediction)\n",
    "f1 = f1_score(y_test, RFE_Prediction)\n",
    "RFE_result= pd.DataFrame([['Recursive Feature Elimination-GBM', Mean_score,acc,prec,rec, f1,roc]],\n",
    "               columns = ['Model', 'Train Accuracy','Test Accuracy', 'Precision', 'Recall', 'F1 Score','ROC'])\n",
    "model_results = model_results.append(RFE_result, ignore_index = True)\n",
    "RFE_result"
   ]
  },
  {
   "cell_type": "markdown",
   "metadata": {},
   "source": [
    "### Prinicipal Component Analysis(PCA)"
   ]
  },
  {
   "cell_type": "code",
   "execution_count": 191,
   "metadata": {},
   "outputs": [],
   "source": [
    "# Make an instance of the Model\n",
    "pca = PCA(.95)\n",
    "PCA(copy=True, iterated_power='auto', n_components=0.9, random_state=None,\n",
    "  svd_solver='auto', tol=0.0, whiten=False)\n",
    "#fitting PCA on the training set only\n",
    "\n",
    "pca.fit(X_train)\n",
    "#Applying the mapping (transform) to both the training set and the test set.\n",
    "Train_PCA = pca.transform(X_train)\n",
    "Test_PCA = pca.transform(X_test)"
   ]
  },
  {
   "cell_type": "code",
   "execution_count": 192,
   "metadata": {},
   "outputs": [
    {
     "data": {
      "text/plain": [
       "19"
      ]
     },
     "execution_count": 192,
     "metadata": {},
     "output_type": "execute_result"
    }
   ],
   "source": [
    "pca.n_components_"
   ]
  },
  {
   "cell_type": "code",
   "execution_count": 187,
   "metadata": {},
   "outputs": [
    {
     "data": {
      "text/plain": [
       "(21000, 78)"
      ]
     },
     "execution_count": 187,
     "metadata": {},
     "output_type": "execute_result"
    }
   ],
   "source": [
    "X_train.shape"
   ]
  },
  {
   "cell_type": "code",
   "execution_count": 189,
   "metadata": {},
   "outputs": [
    {
     "data": {
      "text/plain": [
       "(21000, 19)"
      ]
     },
     "execution_count": 189,
     "metadata": {},
     "output_type": "execute_result"
    }
   ],
   "source": [
    "Train_PCA.shape"
   ]
  },
  {
   "cell_type": "markdown",
   "metadata": {},
   "source": [
    "####  From the above output, you can observe that to achieve 95% variance, the dimension was reduced to 19 principal components from the actual 78 dimensions."
   ]
  },
  {
   "cell_type": "code",
   "execution_count": 364,
   "metadata": {},
   "outputs": [
    {
     "name": "stdout",
     "output_type": "stream",
     "text": [
      "[0.81728571 0.81571429 0.81771429]\n"
     ]
    }
   ],
   "source": [
    "#Use the model\n",
    "#clf = SVC(kernel = 'rbf')\n",
    "PCA_CLF = ModelGB.fit(X_train, y_train)\n",
    "\n",
    "print(cross_val_score(PCA_CLF, X_train, y_train))\n",
    "\n",
    "explained_variance = pca.explained_variance_ratio_\n"
   ]
  },
  {
   "cell_type": "code",
   "execution_count": 432,
   "metadata": {},
   "outputs": [
    {
     "name": "stdout",
     "output_type": "stream",
     "text": [
      "Accuracy: 0.81690 (+/- 0.00172)\n"
     ]
    }
   ],
   "source": [
    "ScorePCA  = cross_val_score(Pickeled_PCA_CLF, X_train, y_train)\n",
    "print(\"Accuracy: %0.5f (+/- %0.5f)\" % (ScorePCA.mean(), ScorePCA.std() * 2))"
   ]
  },
  {
   "cell_type": "code",
   "execution_count": 365,
   "metadata": {},
   "outputs": [
    {
     "data": {
      "text/plain": [
       "array([0.33790556, 0.11583334, 0.06615125, 0.05399442, 0.04908472,\n",
       "       0.04793704, 0.04653531, 0.04326519, 0.04222678, 0.03712595,\n",
       "       0.02259103, 0.01604036, 0.01550814, 0.01308746, 0.01231659,\n",
       "       0.00958864, 0.00812832, 0.00726709, 0.00628612])"
      ]
     },
     "execution_count": 365,
     "metadata": {},
     "output_type": "execute_result"
    }
   ],
   "source": [
    "explained_variance"
   ]
  },
  {
   "cell_type": "code",
   "execution_count": 366,
   "metadata": {},
   "outputs": [],
   "source": [
    "# save the model to disk\n",
    "filename = 'PCA_CLF.sav'\n",
    "Pickle_on = open(filename, 'wb')\n",
    "pickle.dump(PCA_CLF, Pickle_on)\n",
    "Pickle_on.close()\n"
   ]
  },
  {
   "cell_type": "code",
   "execution_count": 86,
   "metadata": {},
   "outputs": [
    {
     "name": "stdout",
     "output_type": "stream",
     "text": [
      "0.8256666666666667\n"
     ]
    }
   ],
   "source": [
    "# load the model from disk\n",
    "filename = 'PCA_CLF.sav'\n",
    "Pickle_off = open(filename, 'rb')\n",
    "Pickeled_PCA_CLF = pickle.load(Pickle_off)\n",
    "result = Pickeled_PCA_CLF.score(X_test, y_test)\n",
    "print(result)\n",
    "\n"
   ]
  },
  {
   "cell_type": "code",
   "execution_count": 87,
   "metadata": {},
   "outputs": [],
   "source": [
    "PCA_CLF_Pred = Pickeled_PCA_CLF.predict(X_test)\n",
    "#print ('pred label:', clf.predict(X_test))"
   ]
  },
  {
   "cell_type": "code",
   "execution_count": 88,
   "metadata": {},
   "outputs": [
    {
     "name": "stdout",
     "output_type": "stream",
     "text": [
      "0.8256666666666667\n",
      "[[6723  351]\n",
      " [1218  708]]\n",
      "              precision    recall  f1-score   support\n",
      "\n",
      "           0       0.95      0.85      0.90      7941\n",
      "           1       0.37      0.67      0.47      1059\n",
      "\n",
      "    accuracy                           0.83      9000\n",
      "   macro avg       0.66      0.76      0.68      9000\n",
      "weighted avg       0.88      0.83      0.85      9000\n",
      "\n"
     ]
    }
   ],
   "source": [
    "print(metrics.accuracy_score(y_test, PCA_CLF_Pred))\n",
    "print(metrics.confusion_matrix(y_test, PCA_CLF_Pred))\n",
    "print(metrics.classification_report(PCA_CLF_Pred, y_test))"
   ]
  },
  {
   "cell_type": "code",
   "execution_count": 447,
   "metadata": {},
   "outputs": [
    {
     "data": {
      "text/html": [
       "<div>\n",
       "<style scoped>\n",
       "    .dataframe tbody tr th:only-of-type {\n",
       "        vertical-align: middle;\n",
       "    }\n",
       "\n",
       "    .dataframe tbody tr th {\n",
       "        vertical-align: top;\n",
       "    }\n",
       "\n",
       "    .dataframe thead th {\n",
       "        text-align: right;\n",
       "    }\n",
       "</style>\n",
       "<table border=\"1\" class=\"dataframe\">\n",
       "  <thead>\n",
       "    <tr style=\"text-align: right;\">\n",
       "      <th></th>\n",
       "      <th>Model</th>\n",
       "      <th>Train Accuracy</th>\n",
       "      <th>Test Accuracy</th>\n",
       "      <th>Precision</th>\n",
       "      <th>Recall</th>\n",
       "      <th>F1 Score</th>\n",
       "      <th>ROC</th>\n",
       "    </tr>\n",
       "  </thead>\n",
       "  <tbody>\n",
       "    <tr>\n",
       "      <td>0</td>\n",
       "      <td>PCA-GBM</td>\n",
       "      <td>0.816905</td>\n",
       "      <td>0.825667</td>\n",
       "      <td>0.668555</td>\n",
       "      <td>0.367601</td>\n",
       "      <td>0.474372</td>\n",
       "      <td>0.658991</td>\n",
       "    </tr>\n",
       "  </tbody>\n",
       "</table>\n",
       "</div>"
      ],
      "text/plain": [
       "     Model  Train Accuracy  Test Accuracy  Precision    Recall  F1 Score  \\\n",
       "0  PCA-GBM        0.816905       0.825667   0.668555  0.367601  0.474372   \n",
       "\n",
       "        ROC  \n",
       "0  0.658991  "
      ]
     },
     "execution_count": 447,
     "metadata": {},
     "output_type": "execute_result"
    }
   ],
   "source": [
    "Mean_score = ScorePCA.mean()\n",
    "roc=roc_auc_score(y_test, PCA_CLF_Pred)\n",
    "acc = accuracy_score(y_test, PCA_CLF_Pred)\n",
    "prec = precision_score(y_test, PCA_CLF_Pred)\n",
    "rec = recall_score(y_test, PCA_CLF_Pred)\n",
    "f1 = f1_score(y_test, PCA_CLF_Pred)\n",
    "\n",
    "PCA_result= pd.DataFrame([['PCA-GBM', Mean_score,acc,prec,rec, f1,roc]],\n",
    "               columns = ['Model', 'Train Accuracy','Test Accuracy', 'Precision', 'Recall', 'F1 Score','ROC'])\n",
    "model_results = model_results.append(PCA_result, ignore_index = True)\n",
    "PCA_result"
   ]
  },
  {
   "cell_type": "markdown",
   "metadata": {},
   "source": [
    "### MODEL HYPERPARAMETER TUNING"
   ]
  },
  {
   "cell_type": "markdown",
   "metadata": {},
   "source": [
    "### Grid Search-Random Forest"
   ]
  },
  {
   "cell_type": "code",
   "execution_count": 151,
   "metadata": {},
   "outputs": [],
   "source": [
    "%%timeit -n 1 -r 5\n",
    "Param_grid_RF = {'n_estimators':[100, 300, 500, 800, 1000],\n",
    "              'criterion': ['entropy', 'gini'],\n",
    "              'bootstrap': [True,False]}\n",
    "grid_search_RF = GridSearchCV(estimator=ModelRf,param_grid=Param_grid_RF,scoring='accuracy',cv=3,n_jobs=-1)\n",
    "grid_search_RF = grid_search_RF.fit(X_train,y_train)\n"
   ]
  },
  {
   "cell_type": "code",
   "execution_count": 481,
   "metadata": {},
   "outputs": [
    {
     "data": {
      "text/plain": [
       "GridSearchCV(cv=3, error_score='raise-deprecating',\n",
       "             estimator=RandomForestClassifier(bootstrap=True, class_weight=None,\n",
       "                                              criterion='gini', max_depth=None,\n",
       "                                              max_features='auto',\n",
       "                                              max_leaf_nodes=None,\n",
       "                                              min_impurity_decrease=0.0,\n",
       "                                              min_impurity_split=None,\n",
       "                                              min_samples_leaf=1,\n",
       "                                              min_samples_split=2,\n",
       "                                              min_weight_fraction_leaf=0.0,\n",
       "                                              n_estimators=10, n_jobs=None,\n",
       "                                              oob_score=False,\n",
       "                                              random_state=None, verbose=0,\n",
       "                                              warm_start=False),\n",
       "             iid='warn', n_jobs=-1,\n",
       "             param_grid={'bootstrap': [True, False],\n",
       "                         'criterion': ['entropy', 'gini'],\n",
       "                         'n_estimators': [100, 300, 500, 800, 1000]},\n",
       "             pre_dispatch='2*n_jobs', refit=True, return_train_score=False,\n",
       "             scoring='accuracy', verbose=0)"
      ]
     },
     "execution_count": 481,
     "metadata": {},
     "output_type": "execute_result"
    }
   ],
   "source": [
    "grid_search_RF"
   ]
  },
  {
   "cell_type": "code",
   "execution_count": 152,
   "metadata": {},
   "outputs": [
    {
     "name": "stdout",
     "output_type": "stream",
     "text": [
      "Accuracy on Cross Validation set : 0.815\n"
     ]
    }
   ],
   "source": [
    "best_accuracy_1 = grid_search_RF.best_score_\n",
    "print('Accuracy on Cross Validation set :',best_accuracy_1)"
   ]
  },
  {
   "cell_type": "code",
   "execution_count": 153,
   "metadata": {},
   "outputs": [
    {
     "data": {
      "text/plain": [
       "{'bootstrap': True, 'criterion': 'gini', 'n_estimators': 1000}"
      ]
     },
     "execution_count": 153,
     "metadata": {},
     "output_type": "execute_result"
    }
   ],
   "source": [
    "best_parameters_RF = grid_search_RF.best_params_\n",
    "best_parameters_RF"
   ]
  },
  {
   "cell_type": "code",
   "execution_count": null,
   "metadata": {},
   "outputs": [],
   "source": [
    "# save the model to disk\n",
    "Pickle_on = open(filename, 'wb')\n",
    "\n",
    "pickle.dump(grid_search_RF, Pickle_on)\n",
    "Pickle_on.close()"
   ]
  },
  {
   "cell_type": "code",
   "execution_count": 90,
   "metadata": {},
   "outputs": [
    {
     "name": "stdout",
     "output_type": "stream",
     "text": [
      "0.8213333333333334\n"
     ]
    }
   ],
   "source": [
    "# load the model from disk\n",
    "filename = 'grid_search_RF.sav'\n",
    "Pickle_off = open(filename, 'rb')\n",
    "Pickeled_GS_RF = pickle.load(Pickle_off)\n",
    "Pickle_off.close()\n",
    "result = Pickeled_GS_RF.score(X_test, y_test)\n",
    "print(result)"
   ]
  },
  {
   "cell_type": "code",
   "execution_count": 91,
   "metadata": {},
   "outputs": [],
   "source": [
    "RF_GS_Prediction = Pickeled_GS_RF.predict(X_test)"
   ]
  },
  {
   "cell_type": "code",
   "execution_count": 92,
   "metadata": {},
   "outputs": [
    {
     "name": "stdout",
     "output_type": "stream",
     "text": [
      "0.8213333333333334\n",
      "[[6664  410]\n",
      " [1198  728]]\n",
      "              precision    recall  f1-score   support\n",
      "\n",
      "           0       0.94      0.85      0.89      7862\n",
      "           1       0.38      0.64      0.48      1138\n",
      "\n",
      "    accuracy                           0.82      9000\n",
      "   macro avg       0.66      0.74      0.68      9000\n",
      "weighted avg       0.87      0.82      0.84      9000\n",
      "\n"
     ]
    }
   ],
   "source": [
    "print(metrics.accuracy_score(y_test, RF_GS_Prediction))\n",
    "print(metrics.confusion_matrix(y_test, RF_GS_Prediction))\n",
    "print(metrics.classification_report(RF_GS_Prediction, y_test))"
   ]
  },
  {
   "cell_type": "code",
   "execution_count": 448,
   "metadata": {},
   "outputs": [
    {
     "data": {
      "text/html": [
       "<div>\n",
       "<style scoped>\n",
       "    .dataframe tbody tr th:only-of-type {\n",
       "        vertical-align: middle;\n",
       "    }\n",
       "\n",
       "    .dataframe tbody tr th {\n",
       "        vertical-align: top;\n",
       "    }\n",
       "\n",
       "    .dataframe thead th {\n",
       "        text-align: right;\n",
       "    }\n",
       "</style>\n",
       "<table border=\"1\" class=\"dataframe\">\n",
       "  <thead>\n",
       "    <tr style=\"text-align: right;\">\n",
       "      <th></th>\n",
       "      <th>Model</th>\n",
       "      <th>Train Accuracy</th>\n",
       "      <th>Test Accuracy</th>\n",
       "      <th>Precision</th>\n",
       "      <th>Recall</th>\n",
       "      <th>F1 Score</th>\n",
       "      <th>ROC</th>\n",
       "    </tr>\n",
       "  </thead>\n",
       "  <tbody>\n",
       "    <tr>\n",
       "      <td>0</td>\n",
       "      <td>Random Forest-GS-Tuned</td>\n",
       "      <td>0.815</td>\n",
       "      <td>0.821333</td>\n",
       "      <td>0.639719</td>\n",
       "      <td>0.377985</td>\n",
       "      <td>0.475196</td>\n",
       "      <td>0.660013</td>\n",
       "    </tr>\n",
       "  </tbody>\n",
       "</table>\n",
       "</div>"
      ],
      "text/plain": [
       "                    Model  Train Accuracy  Test Accuracy  Precision    Recall  \\\n",
       "0  Random Forest-GS-Tuned           0.815       0.821333   0.639719  0.377985   \n",
       "\n",
       "   F1 Score       ROC  \n",
       "0  0.475196  0.660013  "
      ]
     },
     "execution_count": 448,
     "metadata": {},
     "output_type": "execute_result"
    }
   ],
   "source": [
    "score = Pickeled_GS_RF.best_score_\n",
    "roc=roc_auc_score(y_test, RF_GS_Prediction)\n",
    "acc = accuracy_score(y_test, RF_GS_Prediction)\n",
    "prec = precision_score(y_test, RF_GS_Prediction)\n",
    "rec = recall_score(y_test, RF_GS_Prediction)\n",
    "f1 = f1_score(y_test, RF_GS_Prediction)\n",
    "\n",
    "RF_GS_result= pd.DataFrame([['Random Forest-GS-Tuned', score,acc,prec,rec, f1,roc]],\n",
    "                 columns = ['Model', 'Train Accuracy','Test Accuracy', 'Precision', 'Recall', 'F1 Score','ROC'])\n",
    "model_results = model_results.append(RF_GS_result, ignore_index = True)\n",
    "RF_GS_result\n"
   ]
  },
  {
   "cell_type": "markdown",
   "metadata": {},
   "source": [
    "\n",
    "### Grid Search-Support Vector Machine"
   ]
  },
  {
   "cell_type": "code",
   "execution_count": 160,
   "metadata": {},
   "outputs": [],
   "source": [
    "%%timeit -n 1 -r 5\n",
    "Param_grid_SVM = [{'C':[0.1,1,10,100,1000],'kernel':['linear'],'gamma':[1,0.1,0.01,0.001,0.0001]}]\n",
    "grid_search_SVM = GridSearchCV(estimator=ModelSVM,param_grid=Param_grid_SVM,scoring='accuracy',cv=3,n_jobs=-1)\n",
    "grid_search_SVM = grid_search_SVM.fit(X_train,y_train)"
   ]
  },
  {
   "cell_type": "code",
   "execution_count": 162,
   "metadata": {},
   "outputs": [
    {
     "name": "stdout",
     "output_type": "stream",
     "text": [
      "Accuracy on Cross Validation set : 0.817047619047619\n"
     ]
    }
   ],
   "source": [
    "best_accuracy_1 = grid_search_SVM.best_score_\n",
    "print('Accuracy on Cross Validation set :',best_accuracy_1)"
   ]
  },
  {
   "cell_type": "code",
   "execution_count": 163,
   "metadata": {},
   "outputs": [
    {
     "data": {
      "text/plain": [
       "{'C': 1000, 'gamma': 0.0001, 'kernel': 'rbf'}"
      ]
     },
     "execution_count": 163,
     "metadata": {},
     "output_type": "execute_result"
    }
   ],
   "source": [
    "best_parameters = grid_search_SVM.best_params_\n",
    "best_parameters\n"
   ]
  },
  {
   "cell_type": "code",
   "execution_count": null,
   "metadata": {},
   "outputs": [],
   "source": [
    "# save the model to disk\n",
    "filename = 'grid_search_SVM.sav'\n",
    "pickle.dump(, open(filename, 'wb'))\n",
    "Pickle_on = open(filename, 'wb')\n",
    "pickle.dump(grid_search_SVM, Pickle_on)\n",
    "Pickle_on.close()\n"
   ]
  },
  {
   "cell_type": "code",
   "execution_count": 94,
   "metadata": {},
   "outputs": [
    {
     "name": "stdout",
     "output_type": "stream",
     "text": [
      "0.8253333333333334\n"
     ]
    }
   ],
   "source": [
    "# load the model from disk\n",
    "filename = 'grid_search_SVM.sav'\n",
    "Pickle_off = open(filename, 'rb')\n",
    "Pickeled_GS_SVM = pickle.load(Pickle_off)\n",
    "Pickle_off.close()\n",
    "result = Pickeled_GS_SVM.score(X_test, y_test)\n",
    "print(result)"
   ]
  },
  {
   "cell_type": "code",
   "execution_count": 95,
   "metadata": {},
   "outputs": [],
   "source": [
    "SVM_GS_Prediction = Pickeled_GS_SVM.predict(X_test)"
   ]
  },
  {
   "cell_type": "code",
   "execution_count": 96,
   "metadata": {},
   "outputs": [
    {
     "name": "stdout",
     "output_type": "stream",
     "text": [
      "0.8253333333333334\n",
      "[[6795  279]\n",
      " [1293  633]]\n",
      "              precision    recall  f1-score   support\n",
      "\n",
      "           0       0.96      0.84      0.90      8088\n",
      "           1       0.33      0.69      0.45       912\n",
      "\n",
      "    accuracy                           0.83      9000\n",
      "   macro avg       0.64      0.77      0.67      9000\n",
      "weighted avg       0.90      0.83      0.85      9000\n",
      "\n"
     ]
    }
   ],
   "source": [
    "print(metrics.accuracy_score(y_test, SVM_GS_Prediction))\n",
    "print(metrics.confusion_matrix(y_test, SVM_GS_Prediction))\n",
    "print(metrics.classification_report(SVM_GS_Prediction, y_test))"
   ]
  },
  {
   "cell_type": "code",
   "execution_count": 449,
   "metadata": {},
   "outputs": [
    {
     "data": {
      "text/html": [
       "<div>\n",
       "<style scoped>\n",
       "    .dataframe tbody tr th:only-of-type {\n",
       "        vertical-align: middle;\n",
       "    }\n",
       "\n",
       "    .dataframe tbody tr th {\n",
       "        vertical-align: top;\n",
       "    }\n",
       "\n",
       "    .dataframe thead th {\n",
       "        text-align: right;\n",
       "    }\n",
       "</style>\n",
       "<table border=\"1\" class=\"dataframe\">\n",
       "  <thead>\n",
       "    <tr style=\"text-align: right;\">\n",
       "      <th></th>\n",
       "      <th>Model</th>\n",
       "      <th>Train Accuracy</th>\n",
       "      <th>Test Accuracy</th>\n",
       "      <th>Precision</th>\n",
       "      <th>Recall</th>\n",
       "      <th>F1 Score</th>\n",
       "      <th>ROC</th>\n",
       "    </tr>\n",
       "  </thead>\n",
       "  <tbody>\n",
       "    <tr>\n",
       "      <td>0</td>\n",
       "      <td>Support Vector Machine-GS-Tuned</td>\n",
       "      <td>0.817048</td>\n",
       "      <td>0.825333</td>\n",
       "      <td>0.694079</td>\n",
       "      <td>0.32866</td>\n",
       "      <td>0.446089</td>\n",
       "      <td>0.64461</td>\n",
       "    </tr>\n",
       "  </tbody>\n",
       "</table>\n",
       "</div>"
      ],
      "text/plain": [
       "                             Model  Train Accuracy  Test Accuracy  Precision  \\\n",
       "0  Support Vector Machine-GS-Tuned        0.817048       0.825333   0.694079   \n",
       "\n",
       "    Recall  F1 Score      ROC  \n",
       "0  0.32866  0.446089  0.64461  "
      ]
     },
     "execution_count": 449,
     "metadata": {},
     "output_type": "execute_result"
    }
   ],
   "source": [
    "score = Pickeled_GS_SVM.best_score_\n",
    "roc=roc_auc_score(y_test, SVM_GS_Prediction)\n",
    "acc = accuracy_score(y_test, SVM_GS_Prediction)\n",
    "prec = precision_score(y_test, SVM_GS_Prediction)\n",
    "rec = recall_score(y_test, SVM_GS_Prediction)\n",
    "f1 = f1_score(y_test, SVM_GS_Prediction)\n",
    "\n",
    "SVM_GS_result= pd.DataFrame([['Support Vector Machine-GS-Tuned', score,acc,prec,rec, f1,roc]],\n",
    "               columns = ['Model', 'Train Accuracy','Test Accuracy', 'Precision', 'Recall', 'F1 Score','ROC'])\n",
    "model_results = model_results.append(SVM_GS_result, ignore_index = True)\n",
    "SVM_GS_result"
   ]
  },
  {
   "cell_type": "markdown",
   "metadata": {},
   "source": [
    "### Grid Search-K-Nearest Neighbors"
   ]
  },
  {
   "cell_type": "code",
   "execution_count": 102,
   "metadata": {},
   "outputs": [
    {
     "name": "stdout",
     "output_type": "stream",
     "text": [
      "36min 24s ± 15min 43s per loop (mean ± std. dev. of 5 runs, 1 loop each)\n"
     ]
    }
   ],
   "source": [
    "k_range = list(range(1,31))\n",
    "weight_options = [\"uniform\", \"distance\"]\n",
    "Param_grid_KNN = dict(n_neighbors = k_range, weights = weight_options)\n",
    "grid_search_KNN = GridSearchCV(estimator = Pickeled_KNN ,param_grid = Param_grid_KNN,scoring='accuracy',cv=3,n_jobs=-1)\n",
    "grid_search_KNN =  grid_search_KNN.fit(X_train,y_train)"
   ]
  },
  {
   "cell_type": "code",
   "execution_count": 126,
   "metadata": {},
   "outputs": [],
   "source": [
    "k_range = list(range(1,5))"
   ]
  },
  {
   "cell_type": "code",
   "execution_count": 127,
   "metadata": {},
   "outputs": [],
   "source": [
    "leaf_size = list(range(1,5))"
   ]
  },
  {
   "cell_type": "code",
   "execution_count": 128,
   "metadata": {},
   "outputs": [],
   "source": [
    "Param_grid_KNN = {'n_neighbors': k_range, 'leaf_size': leaf_size}"
   ]
  },
  {
   "cell_type": "code",
   "execution_count": 129,
   "metadata": {},
   "outputs": [],
   "source": [
    "grid_search_KNN = GridSearchCV(estimator = Pickeled_KNN,param_grid = Param_grid_KNN,scoring='accuracy',cv=3,n_jobs=-1)"
   ]
  },
  {
   "cell_type": "code",
   "execution_count": 130,
   "metadata": {},
   "outputs": [],
   "source": [
    "grid_search_KNN = grid_search_KNN.fit(X_train,y_train)"
   ]
  },
  {
   "cell_type": "code",
   "execution_count": 131,
   "metadata": {},
   "outputs": [
    {
     "name": "stdout",
     "output_type": "stream",
     "text": [
      "Accuracy on Cross Validation set : 0.7933809523809524\n"
     ]
    }
   ],
   "source": [
    "best_accuracy_1 = grid_search_KNN.best_score_\n",
    "print('Accuracy on Cross Validation set :',best_accuracy_1)"
   ]
  },
  {
   "cell_type": "code",
   "execution_count": null,
   "metadata": {},
   "outputs": [],
   "source": [
    "Accuracy_GS_KNN = cross_val_score(Pickeled_GS_KNN,X_train,y_train)\n",
    "print(Accuracy_GS_KNN)"
   ]
  },
  {
   "cell_type": "code",
   "execution_count": 132,
   "metadata": {},
   "outputs": [
    {
     "data": {
      "text/plain": [
       "{'leaf_size': 2, 'n_neighbors': 4}"
      ]
     },
     "execution_count": 132,
     "metadata": {},
     "output_type": "execute_result"
    }
   ],
   "source": [
    "best_parameters = grid_search_KNN.best_params_\n",
    "best_parameters"
   ]
  },
  {
   "cell_type": "code",
   "execution_count": 134,
   "metadata": {},
   "outputs": [],
   "source": [
    "# save the model to disk\n",
    "filename = 'grid_search_KNN.sav'\n",
    "Pickle_on = open(filename, 'wb')\n",
    "pickle.dump(grid_search_KNN, Pickle_on)\n",
    "Pickle_on.close()"
   ]
  },
  {
   "cell_type": "code",
   "execution_count": 135,
   "metadata": {},
   "outputs": [
    {
     "name": "stdout",
     "output_type": "stream",
     "text": [
      "GridSearchCV(cv=3, error_score='raise-deprecating',\n",
      "             estimator=KNeighborsClassifier(algorithm='auto', leaf_size=30,\n",
      "                                            metric='minkowski',\n",
      "                                            metric_params=None, n_jobs=None,\n",
      "                                            n_neighbors=5, p=2,\n",
      "                                            weights='uniform'),\n",
      "             iid='warn', n_jobs=-1,\n",
      "             param_grid={'leaf_size': [1, 2, 3, 4],\n",
      "                         'n_neighbors': [1, 2, 3, 4]},\n",
      "             pre_dispatch='2*n_jobs', refit=True, return_train_score=False,\n",
      "             scoring='accuracy', verbose=0)\n",
      "0.8077777777777778\n"
     ]
    }
   ],
   "source": [
    "# load the model from disk\n",
    "filename = 'grid_search_KNN.sav'\n",
    "Pickle_off = open(filename, 'rb')\n",
    "Pickeled_GS_KNN= pickle.load(Pickle_off)\n",
    "Pickle_off.close()\n",
    "print(Pickeled_GS_KNN)\n",
    "result = Pickeled_GS_KNN.score(X_test, y_test)\n",
    "print(result)"
   ]
  },
  {
   "cell_type": "code",
   "execution_count": 136,
   "metadata": {},
   "outputs": [],
   "source": [
    "KNN_GS_Prediction = Pickeled_GS_KNN.predict(X_test)"
   ]
  },
  {
   "cell_type": "code",
   "execution_count": 137,
   "metadata": {},
   "outputs": [
    {
     "name": "stdout",
     "output_type": "stream",
     "text": [
      "0.8077777777777778\n",
      "[[6760  314]\n",
      " [1416  510]]\n",
      "              precision    recall  f1-score   support\n",
      "\n",
      "           0       0.96      0.83      0.89      8176\n",
      "           1       0.26      0.62      0.37       824\n",
      "\n",
      "    accuracy                           0.81      9000\n",
      "   macro avg       0.61      0.72      0.63      9000\n",
      "weighted avg       0.89      0.81      0.84      9000\n",
      "\n"
     ]
    }
   ],
   "source": [
    "print(metrics.accuracy_score(y_test, KNN_GS_Prediction))\n",
    "print(metrics.confusion_matrix(y_test, KNN_GS_Prediction))\n",
    "print(metrics.classification_report(KNN_GS_Prediction, y_test))"
   ]
  },
  {
   "cell_type": "code",
   "execution_count": 450,
   "metadata": {},
   "outputs": [
    {
     "data": {
      "text/html": [
       "<div>\n",
       "<style scoped>\n",
       "    .dataframe tbody tr th:only-of-type {\n",
       "        vertical-align: middle;\n",
       "    }\n",
       "\n",
       "    .dataframe tbody tr th {\n",
       "        vertical-align: top;\n",
       "    }\n",
       "\n",
       "    .dataframe thead th {\n",
       "        text-align: right;\n",
       "    }\n",
       "</style>\n",
       "<table border=\"1\" class=\"dataframe\">\n",
       "  <thead>\n",
       "    <tr style=\"text-align: right;\">\n",
       "      <th></th>\n",
       "      <th>Model</th>\n",
       "      <th>Train Accuracy</th>\n",
       "      <th>Test Accuracy</th>\n",
       "      <th>Precision</th>\n",
       "      <th>Recall</th>\n",
       "      <th>F1 Score</th>\n",
       "      <th>ROC</th>\n",
       "    </tr>\n",
       "  </thead>\n",
       "  <tbody>\n",
       "    <tr>\n",
       "      <td>0</td>\n",
       "      <td>k-Nearest Neighbor-Tuned</td>\n",
       "      <td>0.793381</td>\n",
       "      <td>0.807778</td>\n",
       "      <td>0.618932</td>\n",
       "      <td>0.264798</td>\n",
       "      <td>0.370909</td>\n",
       "      <td>0.610205</td>\n",
       "    </tr>\n",
       "  </tbody>\n",
       "</table>\n",
       "</div>"
      ],
      "text/plain": [
       "                      Model  Train Accuracy  Test Accuracy  Precision  \\\n",
       "0  k-Nearest Neighbor-Tuned        0.793381       0.807778   0.618932   \n",
       "\n",
       "     Recall  F1 Score       ROC  \n",
       "0  0.264798  0.370909  0.610205  "
      ]
     },
     "execution_count": 450,
     "metadata": {},
     "output_type": "execute_result"
    }
   ],
   "source": [
    "score = Pickeled_GS_KNN.best_score_\n",
    "roc=roc_auc_score(y_test, KNN_GS_Prediction)\n",
    "acc = accuracy_score(y_test, KNN_GS_Prediction)\n",
    "prec = precision_score(y_test, KNN_GS_Prediction)\n",
    "rec = recall_score(y_test, KNN_GS_Prediction)\n",
    "f1 = f1_score(y_test, KNN_GS_Prediction)\n",
    "\n",
    "KNN_GS_result= pd.DataFrame([['k-Nearest Neighbor-Tuned',score, acc,prec,rec, f1,roc]],\n",
    "                  columns = ['Model', 'Train Accuracy','Test Accuracy', 'Precision', 'Recall', 'F1 Score','ROC'])\n",
    "model_results = model_results.append(KNN_GS_result, ignore_index = True)\n",
    "KNN_GS_result"
   ]
  },
  {
   "cell_type": "markdown",
   "metadata": {},
   "source": [
    "### Grid Search-Gradient Boosted Machine"
   ]
  },
  {
   "cell_type": "code",
   "execution_count": 142,
   "metadata": {},
   "outputs": [],
   "source": [
    "Param_grid_GB = {'learning_rate':[0.15,0.1,1.0],'n_estimators':[250,1000,1750]}"
   ]
  },
  {
   "cell_type": "code",
   "execution_count": 143,
   "metadata": {},
   "outputs": [],
   "source": [
    "grid_search_GB = GridSearchCV(estimator = Pickeled_GB,param_grid = Param_grid_GB,scoring='accuracy',cv=3,n_jobs=-1)"
   ]
  },
  {
   "cell_type": "code",
   "execution_count": 145,
   "metadata": {},
   "outputs": [],
   "source": [
    "grid_search_GB =  grid_search_GB.fit(X_train,y_train)"
   ]
  },
  {
   "cell_type": "code",
   "execution_count": 146,
   "metadata": {},
   "outputs": [
    {
     "name": "stdout",
     "output_type": "stream",
     "text": [
      "Accuracy on Cross Validation set : 0.8161904761904762\n"
     ]
    }
   ],
   "source": [
    "best_accuracy_1 = grid_search_GB.best_score_\n",
    "print('Accuracy on Cross Validation set :',best_accuracy_1)"
   ]
  },
  {
   "cell_type": "code",
   "execution_count": 147,
   "metadata": {},
   "outputs": [
    {
     "data": {
      "text/plain": [
       "{'learning_rate': 0.1, 'n_estimators': 250}"
      ]
     },
     "execution_count": 147,
     "metadata": {},
     "output_type": "execute_result"
    }
   ],
   "source": [
    "best_parameters = grid_search_GB.best_params_\n",
    "best_parameters"
   ]
  },
  {
   "cell_type": "code",
   "execution_count": 148,
   "metadata": {},
   "outputs": [],
   "source": [
    "# save the model to disk\n",
    "filename = 'grid_search_GB.sav'\n",
    "Pickle_on = open(filename, 'wb')\n",
    "pickle.dump(grid_search_GB, Pickle_on)\n",
    "Pickle_on.close()\n"
   ]
  },
  {
   "cell_type": "code",
   "execution_count": 149,
   "metadata": {},
   "outputs": [],
   "source": [
    "# load the model from disk\n",
    "filename = 'grid_search_GB.sav'\n",
    "Pickle_off = open(filename, 'rb')\n",
    "Pickeled_GS_GB= pickle.load(Pickle_off)\n",
    "Pickle_off.close()"
   ]
  },
  {
   "cell_type": "code",
   "execution_count": 150,
   "metadata": {},
   "outputs": [
    {
     "name": "stdout",
     "output_type": "stream",
     "text": [
      "0.8252222222222222\n"
     ]
    }
   ],
   "source": [
    "result = Pickeled_GS_GB.score(X_test, y_test)\n",
    "print(result)"
   ]
  },
  {
   "cell_type": "code",
   "execution_count": 151,
   "metadata": {},
   "outputs": [],
   "source": [
    "GB_GS_Prediction = Pickeled_GS_GB.predict(X_test)"
   ]
  },
  {
   "cell_type": "code",
   "execution_count": 152,
   "metadata": {},
   "outputs": [
    {
     "name": "stdout",
     "output_type": "stream",
     "text": [
      "0.8252222222222222\n",
      "[[6703  371]\n",
      " [1202  724]]\n",
      "              precision    recall  f1-score   support\n",
      "\n",
      "           0       0.95      0.85      0.89      7905\n",
      "           1       0.38      0.66      0.48      1095\n",
      "\n",
      "    accuracy                           0.83      9000\n",
      "   macro avg       0.66      0.75      0.69      9000\n",
      "weighted avg       0.88      0.83      0.84      9000\n",
      "\n"
     ]
    }
   ],
   "source": [
    "print(metrics.accuracy_score(y_test, GB_GS_Prediction))\n",
    "print(metrics.confusion_matrix(y_test, GB_GS_Prediction))\n",
    "print(metrics.classification_report(GB_GS_Prediction, y_test))"
   ]
  },
  {
   "cell_type": "code",
   "execution_count": 517,
   "metadata": {},
   "outputs": [
    {
     "data": {
      "text/plain": [
       "array([3.98716970e-02, 2.13762089e-02, 1.69052098e-02, 1.75184000e-02,\n",
       "       1.41946148e-02, 1.18563117e-02, 4.27357932e-02, 3.77055782e-02,\n",
       "       3.02354114e-02, 1.61528499e-02, 1.44834694e-02, 1.51742021e-02,\n",
       "       5.46907368e-03, 1.87562502e-02, 1.85939682e-03, 1.50825216e-03,\n",
       "       1.62175046e-04, 3.06792674e-03, 1.76770268e-03, 6.44934013e-05,\n",
       "       9.26768980e-04, 2.90056532e-03, 5.13647193e-03, 4.15044276e-01,\n",
       "       2.07840697e-02, 2.95398455e-03, 4.14067339e-04, 9.10232576e-04,\n",
       "       0.00000000e+00, 0.00000000e+00, 6.82337894e-04, 7.89915531e-04,\n",
       "       6.61243334e-05, 1.03210773e-01, 1.52369976e-02, 3.84239575e-04,\n",
       "       0.00000000e+00, 1.29210821e-03, 3.62976204e-04, 0.00000000e+00,\n",
       "       1.00478479e-03, 9.69444384e-04, 2.01527751e-04, 4.21964267e-02,\n",
       "       1.82264172e-03, 7.32744502e-04, 6.58667914e-05, 7.35391796e-04,\n",
       "       0.00000000e+00, 3.38619403e-05, 2.17463918e-04, 6.26211136e-04,\n",
       "       1.37295570e-04, 2.00383356e-02, 8.92124790e-04, 5.42457940e-04,\n",
       "       0.00000000e+00, 6.10856341e-05, 0.00000000e+00, 0.00000000e+00,\n",
       "       1.43180720e-04, 6.11960604e-04, 2.12105935e-02, 1.32033327e-03,\n",
       "       4.06849817e-04, 2.63223347e-04, 0.00000000e+00, 1.30303271e-04,\n",
       "       6.19269436e-06, 8.51171963e-04, 1.63135772e-04, 1.67044240e-02,\n",
       "       3.63339451e-03, 3.13234692e-04, 1.27118125e-04, 1.63354389e-03,\n",
       "       0.00000000e+00, 2.42748712e-04])"
      ]
     },
     "execution_count": 517,
     "metadata": {},
     "output_type": "execute_result"
    }
   ],
   "source": [
    "Pickeled_GS_GB.best_estimator_.feature_importances_"
   ]
  },
  {
   "cell_type": "code",
   "execution_count": 522,
   "metadata": {},
   "outputs": [
    {
     "data": {
      "image/png": "[encoded data removed]",
      "text/plain": [
       "<Figure size 432x288 with 1 Axes>"
      ]
     },
     "metadata": {},
     "output_type": "display_data"
    },
    {
     "data": {
      "text/plain": [
       "<Figure size 1440x1440 with 0 Axes>"
      ]
     },
     "metadata": {},
     "output_type": "display_data"
    }
   ],
   "source": [
    "feature_importances = pd.Series(Pickeled_GS_GB.best_estimator_.feature_importances_,index = columns_)\n",
    "feature_importances.nlargest(10).plot(kind='barh',color = ['blue'])\n",
    "plt.figure(figsize = (20,20))\n",
    "plt.show()"
   ]
  },
  {
   "cell_type": "code",
   "execution_count": 523,
   "metadata": {},
   "outputs": [
    {
     "data": {
      "text/plain": [
       "BILL_AMT1    0.039872\n",
       "BILL_AMT2    0.021376\n",
       "BILL_AMT3    0.016905\n",
       "BILL_AMT4    0.017518\n",
       "BILL_AMT5    0.014195\n",
       "               ...   \n",
       "PAY_6_4      0.000313\n",
       "PAY_6_5      0.000127\n",
       "PAY_6_6      0.001634\n",
       "PAY_6_7      0.000000\n",
       "PAY_6_8      0.000243\n",
       "Length: 78, dtype: float64"
      ]
     },
     "execution_count": 523,
     "metadata": {},
     "output_type": "execute_result"
    }
   ],
   "source": [
    "feature_importances"
   ]
  },
  {
   "cell_type": "code",
   "execution_count": 451,
   "metadata": {},
   "outputs": [],
   "source": [
    "score = Pickeled_GS_GB.best_score_\n",
    "roc=roc_auc_score(y_test, GB_GS_Prediction)\n",
    "acc = accuracy_score(y_test, GB_GS_Prediction)\n",
    "prec = precision_score(y_test, GB_GS_Prediction)\n",
    "rec = recall_score(y_test, GB_GS_Prediction)\n",
    "f1 = f1_score(y_test, GB_GS_Prediction)\n",
    "\n",
    "GB_GS_result= pd.DataFrame([['Gradient Boosted Machine-Tuned',score, acc,prec,rec, f1,roc]],\n",
    "               columns = ['Model', 'Train Accuracy','Test Accuracy', 'Precision', 'Recall', 'F1 Score','ROC'])\n",
    "model_results = model_results.append(GB_GS_result, ignore_index = True)\n"
   ]
  },
  {
   "cell_type": "code",
   "execution_count": 452,
   "metadata": {},
   "outputs": [
    {
     "data": {
      "text/html": [
       "<div>\n",
       "<style scoped>\n",
       "    .dataframe tbody tr th:only-of-type {\n",
       "        vertical-align: middle;\n",
       "    }\n",
       "\n",
       "    .dataframe tbody tr th {\n",
       "        vertical-align: top;\n",
       "    }\n",
       "\n",
       "    .dataframe thead th {\n",
       "        text-align: right;\n",
       "    }\n",
       "</style>\n",
       "<table border=\"1\" class=\"dataframe\">\n",
       "  <thead>\n",
       "    <tr style=\"text-align: right;\">\n",
       "      <th></th>\n",
       "      <th>Model</th>\n",
       "      <th>Train Accuracy</th>\n",
       "      <th>Test Accuracy</th>\n",
       "      <th>Precision</th>\n",
       "      <th>Recall</th>\n",
       "      <th>F1 Score</th>\n",
       "      <th>ROC</th>\n",
       "    </tr>\n",
       "  </thead>\n",
       "  <tbody>\n",
       "    <tr>\n",
       "      <td>0</td>\n",
       "      <td>RANDOM FOREST</td>\n",
       "      <td>0.803810</td>\n",
       "      <td>0.808111</td>\n",
       "      <td>0.593427</td>\n",
       "      <td>0.328141</td>\n",
       "      <td>0.422601</td>\n",
       "      <td>0.633466</td>\n",
       "    </tr>\n",
       "    <tr>\n",
       "      <td>1</td>\n",
       "      <td>DECISION TREE</td>\n",
       "      <td>0.721619</td>\n",
       "      <td>0.729111</td>\n",
       "      <td>0.377159</td>\n",
       "      <td>0.408100</td>\n",
       "      <td>0.392020</td>\n",
       "      <td>0.612305</td>\n",
       "    </tr>\n",
       "    <tr>\n",
       "      <td>2</td>\n",
       "      <td>SUPPORT VECTOR MACHINE</td>\n",
       "      <td>0.816810</td>\n",
       "      <td>0.825111</td>\n",
       "      <td>0.692560</td>\n",
       "      <td>0.328660</td>\n",
       "      <td>0.445775</td>\n",
       "      <td>0.644469</td>\n",
       "    </tr>\n",
       "    <tr>\n",
       "      <td>3</td>\n",
       "      <td>k-NEAREST NEIGHBOR</td>\n",
       "      <td>0.791524</td>\n",
       "      <td>0.799556</td>\n",
       "      <td>0.548957</td>\n",
       "      <td>0.355140</td>\n",
       "      <td>0.431274</td>\n",
       "      <td>0.637847</td>\n",
       "    </tr>\n",
       "    <tr>\n",
       "      <td>4</td>\n",
       "      <td>Gradient Boosted Model</td>\n",
       "      <td>0.816905</td>\n",
       "      <td>0.825667</td>\n",
       "      <td>0.668555</td>\n",
       "      <td>0.367601</td>\n",
       "      <td>0.431274</td>\n",
       "      <td>0.658991</td>\n",
       "    </tr>\n",
       "    <tr>\n",
       "      <td>5</td>\n",
       "      <td>Recursive Feature Elimination-GBM</td>\n",
       "      <td>0.813762</td>\n",
       "      <td>0.823444</td>\n",
       "      <td>0.664070</td>\n",
       "      <td>0.354102</td>\n",
       "      <td>0.461903</td>\n",
       "      <td>0.652666</td>\n",
       "    </tr>\n",
       "    <tr>\n",
       "      <td>6</td>\n",
       "      <td>PCA-GBM</td>\n",
       "      <td>0.816905</td>\n",
       "      <td>0.825667</td>\n",
       "      <td>0.668555</td>\n",
       "      <td>0.367601</td>\n",
       "      <td>0.474372</td>\n",
       "      <td>0.658991</td>\n",
       "    </tr>\n",
       "    <tr>\n",
       "      <td>7</td>\n",
       "      <td>Random Forest-GS-Tuned</td>\n",
       "      <td>0.815000</td>\n",
       "      <td>0.821333</td>\n",
       "      <td>0.639719</td>\n",
       "      <td>0.377985</td>\n",
       "      <td>0.475196</td>\n",
       "      <td>0.660013</td>\n",
       "    </tr>\n",
       "    <tr>\n",
       "      <td>8</td>\n",
       "      <td>Support Vector Machine-GS-Tuned</td>\n",
       "      <td>0.817048</td>\n",
       "      <td>0.825333</td>\n",
       "      <td>0.694079</td>\n",
       "      <td>0.328660</td>\n",
       "      <td>0.446089</td>\n",
       "      <td>0.644610</td>\n",
       "    </tr>\n",
       "    <tr>\n",
       "      <td>9</td>\n",
       "      <td>k-Nearest Neighbor-Tuned</td>\n",
       "      <td>0.793381</td>\n",
       "      <td>0.807778</td>\n",
       "      <td>0.618932</td>\n",
       "      <td>0.264798</td>\n",
       "      <td>0.370909</td>\n",
       "      <td>0.610205</td>\n",
       "    </tr>\n",
       "    <tr>\n",
       "      <td>10</td>\n",
       "      <td>Gradient Boosted Machine-Tuned</td>\n",
       "      <td>0.816190</td>\n",
       "      <td>0.825222</td>\n",
       "      <td>0.661187</td>\n",
       "      <td>0.375909</td>\n",
       "      <td>0.479311</td>\n",
       "      <td>0.661732</td>\n",
       "    </tr>\n",
       "  </tbody>\n",
       "</table>\n",
       "</div>"
      ],
      "text/plain": [
       "                                Model  Train Accuracy  Test Accuracy  \\\n",
       "0                       RANDOM FOREST        0.803810       0.808111   \n",
       "1                       DECISION TREE        0.721619       0.729111   \n",
       "2              SUPPORT VECTOR MACHINE        0.816810       0.825111   \n",
       "3                  k-NEAREST NEIGHBOR        0.791524       0.799556   \n",
       "4              Gradient Boosted Model        0.816905       0.825667   \n",
       "5   Recursive Feature Elimination-GBM        0.813762       0.823444   \n",
       "6                             PCA-GBM        0.816905       0.825667   \n",
       "7              Random Forest-GS-Tuned        0.815000       0.821333   \n",
       "8     Support Vector Machine-GS-Tuned        0.817048       0.825333   \n",
       "9            k-Nearest Neighbor-Tuned        0.793381       0.807778   \n",
       "10     Gradient Boosted Machine-Tuned        0.816190       0.825222   \n",
       "\n",
       "    Precision    Recall  F1 Score       ROC  \n",
       "0    0.593427  0.328141  0.422601  0.633466  \n",
       "1    0.377159  0.408100  0.392020  0.612305  \n",
       "2    0.692560  0.328660  0.445775  0.644469  \n",
       "3    0.548957  0.355140  0.431274  0.637847  \n",
       "4    0.668555  0.367601  0.431274  0.658991  \n",
       "5    0.664070  0.354102  0.461903  0.652666  \n",
       "6    0.668555  0.367601  0.474372  0.658991  \n",
       "7    0.639719  0.377985  0.475196  0.660013  \n",
       "8    0.694079  0.328660  0.446089  0.644610  \n",
       "9    0.618932  0.264798  0.370909  0.610205  \n",
       "10   0.661187  0.375909  0.479311  0.661732  "
      ]
     },
     "execution_count": 452,
     "metadata": {},
     "output_type": "execute_result"
    }
   ],
   "source": [
    "model_results\n"
   ]
  },
  {
   "cell_type": "code",
   "execution_count": 364,
   "metadata": {},
   "outputs": [],
   "source": [
    "#Model_Accu = model_results.loc[:,'Model':'Accuracy']\n",
    "#Model_Accu\n",
    "#ModelAccu = pd.DataFrame(Model_Accu.Accuracy.values.reshape(1,-1), \n",
    "#                    index=['Accuracy'], \n",
    "#                    columns=Model_Accu.Model.values)\n",
    "#ModelAccu"
   ]
  },
  {
   "cell_type": "markdown",
   "metadata": {},
   "source": [
    "### Comparison of Accuracy of  Baseline Algortithms"
   ]
  },
  {
   "cell_type": "code",
   "execution_count": null,
   "metadata": {},
   "outputs": [],
   "source": [
    "#Box plot of Model's Accuracy \n",
    "Accuracy_RF = cross_val_score(Pickeled_RF, X_train, y_train)\n",
    "Accuracy_DT = cross_val_score(Pickeled_DT, X_train, y_train)\n",
    "Accuracy_SVM = cross_val_score(Pickeled_SVM, X_train, y_train)\n",
    "Accuracy_KNN = cross_val_score(Pickeled_KNN, X_train, y_train)\n",
    "Accuracy_GB = cross_val_score(Pickeled_GB, X_train, y_train)\n"
   ]
  },
  {
   "cell_type": "code",
   "execution_count": 390,
   "metadata": {},
   "outputs": [
    {
     "data": {
      "image/png": "[encoded data removed]",
      "text/plain": [
       "<Figure size 432x288 with 1 Axes>"
      ]
     },
     "metadata": {},
     "output_type": "display_data"
    },
    {
     "data": {
      "text/plain": [
       "<Figure size 1440x1440 with 0 Axes>"
      ]
     },
     "metadata": {},
     "output_type": "display_data"
    }
   ],
   "source": [
    "box_plot_data=[Accuracy_RF,Accuracy_DT,Accuracy_SVM,Accuracy_KNN,Accuracy_GB]\n",
    "plt.boxplot(box_plot_data,patch_artist=True,vert = 0,labels=['RF','DT','SVM','KNN','GB'])\n",
    "plt.ylim([0.7, 0.9])\n",
    "plt.xlabel('Models')\n",
    "plt.ylabel('Accuracy')\n",
    "plt.title('ALGORITHM COMPARISON')\n",
    "plt.figure(figsize=(20, 20))\n",
    "plt.show()"
   ]
  },
  {
   "cell_type": "markdown",
   "metadata": {},
   "source": [
    "### Accuracy comparison of all models"
   ]
  },
  {
   "cell_type": "code",
   "execution_count": 535,
   "metadata": {},
   "outputs": [
    {
     "data": {
      "image/png": "[encoded data removed]",
      "text/plain": [
       "<Figure size 720x432 with 1 Axes>"
      ]
     },
     "metadata": {},
     "output_type": "display_data"
    }
   ],
   "source": [
    "sns.set(color_codes=True)\n",
    "sns.set_palette(\"muted\")\n",
    "plt.subplots(figsize=(10,6))\n",
    "ax = sns.barplot(x=\"Model\", y=\"Train Accuracy\",data=model_results,palette=\"deep\",edgecolor=sns.color_palette('deep',7))\n",
    "def add_value_labels(ax, spacing=5):\n",
    "    \"\"\"Add labels to the end of each bar in a bar chart.\n",
    "\n",
    "    Arguments:\n",
    "        ax (matplotlib.axes.Axes): The matplotlib object containing the axes\n",
    "            of the plot to annotate.\n",
    "        spacing (int): The distance between the labels and the bars.\n",
    "    \"\"\"\n",
    "\n",
    "    # For each bar: Place a label\n",
    "    for rect in ax.patches:\n",
    "        # Get X and Y placement of label from rect.\n",
    "        y_value = rect.get_height()\n",
    "        x_value = rect.get_x() + rect.get_width() / 2\n",
    "\n",
    "        # Number of points between bar and label. Change to your liking.\n",
    "        space = spacing\n",
    "        # Vertical alignment for positive values\n",
    "        va = 'bottom'\n",
    "\n",
    "        # If value of bar is negative: Place label below bar\n",
    "        if y_value < 0:\n",
    "            # Invert space to place label below\n",
    "            space *= -1\n",
    "            # Vertically align label at top\n",
    "            va = 'top'\n",
    "\n",
    "        # Use Y value as label and format number with one decimal place\n",
    "        label = \"{:.3f}\".format(y_value)\n",
    "\n",
    "        # Create annotation\n",
    "        ax.annotate(\n",
    "            label,                      # Use `label` as label\n",
    "            (x_value, y_value),         # Place label at end of the bar\n",
    "            xytext=(0, space),          # Vertically shift label by `space`\n",
    "            textcoords=\"offset points\", # Interpret `xytext` as offset in points\n",
    "            ha='center',                # Horizontally center label\n",
    "            va=va)                      # Vertically align label differently for\n",
    "                                        # positive and negative values.\n",
    "\n",
    "\n",
    "# Call the function above. All the magic happens there.\n",
    "add_value_labels(ax)\n",
    "\n",
    "\n",
    "plt.xticks(rotation=90)\n",
    "plt.title('Model Train Accuracy Comparison')\n",
    "plt.show()"
   ]
  },
  {
   "cell_type": "markdown",
   "metadata": {},
   "source": [
    "####  \n",
    "* The best accuracy is obtained for the Gradient Boosted Machine-Tuned with a mean accuracy of 0.81, All other models have comparable mean accuracy. Nevertheless, because the classes are imbalanced (the proportion of non-default credit cards is higher than default) this metric is misleading. Furthermore, accuracy does not consider the rate of false positives (non-default credits cards that were predicted as default) and false negatives (default credit cards that were incorrectly predicted as non-default). Both cases have negative impact on the bank, since false positives leads to unsatisfied customers and false negatives leads to financial loss.\n",
    "* SVM model took a lot of time run when compared to other models."
   ]
  },
  {
   "cell_type": "markdown",
   "metadata": {},
   "source": [
    "### ROC/AUC Curve\n",
    "Area under the receiver operating characteristic curve (“ROC AUC”) is often used to\n",
    "quantifying the predictive power of machine learning models for binary classification.\n",
    "The ROC AUC score can take on values from 0 to 1. An ROC AUC score of 0.5 implies\n",
    "that a model is not predictive. An ROC AUC score of 1 implies that a model is very\n",
    "predictive."
   ]
  },
  {
   "cell_type": "code",
   "execution_count": 372,
   "metadata": {},
   "outputs": [],
   "source": [
    "# false positive rate,fpr= FP/(TN+FP) OR fpr=1-specificty, tpr=sensitivity \n",
    "y_pred_RF =Pickeled_RF.predict_proba(X_test)[:,1]\n",
    "y_pred_SVM =Pickeled_SVM.predict_proba(X_test)[:,1]\n",
    "y_pred_KNN =Pickeled_KNN.predict_proba(X_test)[:,1]\n",
    "y_pred_GB = Pickeled_GB.predict_proba(X_test)[:,1]\n",
    "y_pred_RF_T =Pickeled_GS_RF.predict_proba(X_test)[:,1]\n",
    "#y_pred_SVM_T =Pickeled_GS_SVM.predict_proba(X_test)[:,1]\n",
    "y_pred_KNN_T =Pickeled_GS_KNN.predict_proba(X_test)[:,1]\n",
    "y_pred_GB_T =Pickeled_GS_GB.predict_proba(X_test)[:,1]\n",
    "y_pred_RFE =Pickeled_rfe.predict_proba(X_test)[:,1]\n",
    "model = [Pickeled_RF,Pickeled_SVM,Pickeled_KNN,Pickeled_GB,Pickeled_GS_RF,Pickeled_GS_KNN,Pickeled_GS_GB,Pickeled_rfe]\n",
    "models=[y_pred_RF,y_pred_SVM,y_pred_KNN,y_pred_GB,y_pred_RF_T,y_pred_KNN_T,y_pred_GB_T,y_pred_RFE]\n",
    "label =['RF','SVM','KNN','GBM','RF-Tuned','KNN-Tuned','GB-Tuned','RFE']"
   ]
  },
  {
   "cell_type": "code",
   "execution_count": 507,
   "metadata": {},
   "outputs": [
    {
     "data": {
      "image/png": "[encoded data removed]",
      "text/plain": [
       "<Figure size 720x576 with 1 Axes>"
      ]
     },
     "metadata": {},
     "output_type": "display_data"
    }
   ],
   "source": [
    "# plotting ROC curves\n",
    "plt.figure(figsize=(10, 8))\n",
    "m=np.arange(8)\n",
    "for m in m:\n",
    "    fpr, tpr,thresholds= metrics.roc_curve(y_test,models[m])\n",
    "    auc = metrics.roc_auc_score(y_test,model[m].predict(X_test))\n",
    "    plt.plot(fpr, tpr, label='%s ROC (AUC = %0.2f)' % (label[m], auc))\n",
    "plt.plot([0, 1], [0, 1],'r--')\n",
    "plt.xlim([0.0, 1.0])\n",
    "plt.ylim([0.0, 1.05])\n",
    "plt.xlabel('1-Specificity(False Positive Rate)')\n",
    "plt.ylabel('Sensitivity(True Positive Rate)')\n",
    "plt.title('Receiver Operating Characteristic')\n",
    "plt.legend(loc=\"lower right\")\n",
    "plt.savefig('ROC.png')\n",
    "plt.show()"
   ]
  },
  {
   "cell_type": "markdown",
   "metadata": {},
   "source": [
    "#### The highest AUC is obtained for the GBM model, with a value of 0.66. This means there is 66% chance that the model will be able to distinguish between default  and non-default "
   ]
  },
  {
   "cell_type": "markdown",
   "metadata": {},
   "source": [
    "### Conclusion"
   ]
  },
  {
   "cell_type": "markdown",
   "metadata": {},
   "source": [
    "### Based on my analysis, the model selected for best performance would be Gradient Boosted Machine-Tuned \n",
    "Parameters: \n",
    "({'learning_rate': 0.1, 'n_estimators': 250}. \n",
    "Metrics: "
   ]
  },
  {
   "cell_type": "code",
   "execution_count": 525,
   "metadata": {},
   "outputs": [
    {
     "data": {
      "text/html": [
       "<div>\n",
       "<style scoped>\n",
       "    .dataframe tbody tr th:only-of-type {\n",
       "        vertical-align: middle;\n",
       "    }\n",
       "\n",
       "    .dataframe tbody tr th {\n",
       "        vertical-align: top;\n",
       "    }\n",
       "\n",
       "    .dataframe thead th {\n",
       "        text-align: right;\n",
       "    }\n",
       "</style>\n",
       "<table border=\"1\" class=\"dataframe\">\n",
       "  <thead>\n",
       "    <tr style=\"text-align: right;\">\n",
       "      <th></th>\n",
       "      <th>Model</th>\n",
       "      <th>Train Accuracy</th>\n",
       "      <th>Test Accuracy</th>\n",
       "      <th>Precision</th>\n",
       "      <th>Recall</th>\n",
       "      <th>F1 Score</th>\n",
       "      <th>ROC</th>\n",
       "    </tr>\n",
       "  </thead>\n",
       "  <tbody>\n",
       "    <tr>\n",
       "      <td>0</td>\n",
       "      <td>Gradient Boosted Machine-Tuned</td>\n",
       "      <td>0.81619</td>\n",
       "      <td>0.825222</td>\n",
       "      <td>0.661187</td>\n",
       "      <td>0.375909</td>\n",
       "      <td>0.479311</td>\n",
       "      <td>0.661732</td>\n",
       "    </tr>\n",
       "  </tbody>\n",
       "</table>\n",
       "</div>"
      ],
      "text/plain": [
       "                            Model  Train Accuracy  Test Accuracy  Precision  \\\n",
       "0  Gradient Boosted Machine-Tuned         0.81619       0.825222   0.661187   \n",
       "\n",
       "     Recall  F1 Score       ROC  \n",
       "0  0.375909  0.479311  0.661732  "
      ]
     },
     "execution_count": 525,
     "metadata": {},
     "output_type": "execute_result"
    }
   ],
   "source": [
    "GB_GS_result"
   ]
  },
  {
   "cell_type": "markdown",
   "metadata": {},
   "source": [
    "* The most important parameters in determining default of credit cards are the Repayment status variable\n",
    "* Demographic features didnt have much influence in the predition. "
   ]
  },
  {
   "cell_type": "markdown",
   "metadata": {},
   "source": [
    "### Recommendations to increase accuracy and ROC\n",
    "\n",
    "* Balancing imbalanced dataset.\n",
    "* Creating new features(Dimensionality reduction)  \n",
    "* Trying other tree based models and logistic regression\n",
    "* Hyperparamter Tuning\n"
   ]
  }
 ],
 "metadata": {
  "kernelspec": {
   "display_name": "Python 3",
   "language": "python",
   "name": "python3"
  },
  "language_info": {
   "codemirror_mode": {
    "name": "ipython",
    "version": 3
   },
   "file_extension": ".py",
   "mimetype": "text/x-python",
   "name": "python",
   "nbconvert_exporter": "python",
   "pygments_lexer": "ipython3",
   "version": "3.7.4"
  }
 },
 "nbformat": 4,
 "nbformat_minor": 2
}
